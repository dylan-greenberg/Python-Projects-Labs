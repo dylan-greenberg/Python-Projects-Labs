{
  "cells": [
    {
      "cell_type": "markdown",
      "metadata": {
        "id": "view-in-github",
        "colab_type": "text"
      },
      "source": [
        "<a href=\"https://colab.research.google.com/github/dylan-greenberg/Python-Projects-Labs/blob/main/Lab11_MegaTelCo_ProfitModel.ipynb\" target=\"_parent\"><img src=\"https://colab.research.google.com/assets/colab-badge.svg\" alt=\"Open In Colab\"/></a>"
      ]
    },
    {
      "cell_type": "markdown",
      "metadata": {
        "id": "p_Yu45OYdj3Y"
      },
      "source": [
        "# IS 4487 Lab 11\n",
        "\n",
        "## Outline\n",
        "\n",
        "What do you need to know for this module's project?\n",
        "\n",
        "1. Fit a tree model using all the available predictors.\n",
        "2. Create a confusion matrix  and identify numbers of TP, FP, TN and FN.\n",
        "3. Estimate profit (benefits - costs) using a defined cost-benefit matrix and the above confusion matrix.\n",
        "4. Estimate profit for a strategy that consists in calling everyone.\n",
        "5. Estimate profit for a class decision threshold of .3\n",
        "6.  Use the model to predict on a new dataset (without the target), then use these predictions to identify those who should be called--a contact list.\n",
        "7.  Make a recommendation to the Director of Sales based on your analytic work.\n",
        "\n",
        "**NOTE:** For the module 5 project you will predict answering for prospective customers (who have not yet been called). Consequently, the assignment requires an additional dataset, customer_data.csv, that you will need to download and move into your project folder.  Here is code to load that data into memory after you have it saved in your project folder (your working directory). This code is included in the template script.\n",
        "\n",
        "<a href=\"https://colab.research.google.com/github/Stan-Pugsley/is_4487_base/blob/main/Labs/Scripts/lab11_megatelco_tune_model.ipynb\" target=\"_parent\"><img src=\"https://colab.research.google.com/assets/colab-badge.svg\" alt=\"Open In Colab\"/></a>"
      ]
    },
    {
      "cell_type": "markdown",
      "metadata": {
        "id": "brI5WIsINYU1"
      },
      "source": [
        "## Megatelco Data Dictionary\n",
        "\n",
        " DEMOGRAPHIC VARIABLES:\n",
        " - College - has the customer attended some college (one, zero)\n",
        " - Income - annual income of customer\n",
        " - House - estimated price of the customer's home (if applicable)\n",
        "\n",
        " USAGE VARIABLES:\n",
        " - Data Overage Mb - Average number of megabytes that the customer used in excess of the plan limit (over last 12 months)\n",
        " - Data Leftover Mb - Average number of megabytes that the customer use was below the plan limit (over last 12 months)\n",
        " - Data Mb Used - Average number of megabytes used per month (over last 12 months)\n",
        " - Text Message Count - Average number of texts per month (over last 12 months)\n",
        " - Over 15 Minute Calls Per Month - Average number of calls over 15 minutes in duration per month (over last 12 months)\n",
        " - Average Call Duration- Average call duration (over last 12 months)\n",
        "\n",
        "PHONE VARIABLES:\n",
        " - Operating System - Current operating system of phone\n",
        " - Handset Price - Retail price of the phone used by the customer\n",
        "\n",
        "ATTITUDINAL VARIABLES:\n",
        " - Reported Satisfaction - Survey response to \"How satisfied are you with your current phone plan?\" (high, med, low)\n",
        " - Reported Usage Level - Survey response to \"How much do your use your phone?\" (high, med, low)\n",
        " - Considering Change of Plan - Survey response to \"Are you currently planning to change companies when your contract expires?\" (high, med, low)\n",
        "\n",
        "OTHER VARIABLES\n",
        " - Leave - Did this customer churn with the last contract expiration? (LEAVE, STAY)\n",
        " - ID - Customer identifier"
      ]
    },
    {
      "cell_type": "markdown",
      "metadata": {
        "id": "UE93RwXhgiJS"
      },
      "source": [
        "##Load Libraries\n",
        "\n",
        "In this class we will be using\n",
        "- Pandas\n",
        "- Scikitlearn\n",
        "- Matplotlib\n"
      ]
    },
    {
      "cell_type": "code",
      "execution_count": 1,
      "metadata": {
        "id": "JYRZY5n0gfNe"
      },
      "outputs": [],
      "source": [
        "import pandas as pd\n",
        "import matplotlib as mpl\n",
        "import seaborn as sns\n",
        "\n",
        "from sklearn.tree import DecisionTreeClassifier, export_graphviz # Import Decision Tree Classifier\n",
        "from sklearn.model_selection import train_test_split # Import train_test_split function\n",
        "from sklearn import metrics  #Import scikit-learn metrics module for accuracy calculation\n",
        "from sklearn.metrics import confusion_matrix\n"
      ]
    },
    {
      "cell_type": "markdown",
      "metadata": {
        "id": "bREaXo8jfu-O"
      },
      "source": [
        "## Import Data into Dataframe\n",
        "\n",
        "➡️ Assignment Tasks\n",
        "- Import data from the Megatelco dataset into a dataframe (in GitHub go to Labs > DataSets)\n",
        "- Describe or profile the dataframe\n"
      ]
    },
    {
      "cell_type": "code",
      "execution_count": 2,
      "metadata": {
        "id": "6_FwprxVgR0e",
        "colab": {
          "base_uri": "https://localhost:8080/",
          "height": 226
        },
        "outputId": "655afcb3-6000-4212-d69e-acc73a42caab"
      },
      "outputs": [
        {
          "output_type": "execute_result",
          "data": {
            "text/plain": [
              "  college  income  data_overage_mb  data_leftover_mb  data_mb_used  \\\n",
              "0     one  403137               70                 0          6605   \n",
              "1    zero  129700               67                16          6028   \n",
              "2    zero   69741               60                 0          1482   \n",
              "3     one  377572                0                22          3005   \n",
              "4    zero  382080                0                 0          1794   \n",
              "\n",
              "   text_message_count   house  handset_price  over_15mins_calls_per_month  \\\n",
              "0                 199  841317            653                          5.0   \n",
              "1                 134  476664           1193                          5.0   \n",
              "2                 176  810225           1037                          3.0   \n",
              "3                 184  826967           1161                          0.0   \n",
              "4                  74  951896           1023                          0.0   \n",
              "\n",
              "   average_call_duration reported_satisfaction reported_usage_level  \\\n",
              "0                      8                   low                  low   \n",
              "1                      5                   low                  low   \n",
              "2                      8                   low                  low   \n",
              "3                      5                   low                  low   \n",
              "4                     14                   low                  low   \n",
              "\n",
              "  considering_change_of_plan  leave     id operating_system  \n",
              "0                        yes  LEAVE   8183          Android  \n",
              "1                        yes  LEAVE  12501              IOS  \n",
              "2                        yes   STAY   7425              IOS  \n",
              "3                         no  LEAVE  13488              IOS  \n",
              "4                        yes   STAY  11389              IOS  "
            ],
            "text/html": [
              "\n",
              "  <div id=\"df-a7db0e68-76d6-494f-9640-7181e4261eba\" class=\"colab-df-container\">\n",
              "    <div>\n",
              "<style scoped>\n",
              "    .dataframe tbody tr th:only-of-type {\n",
              "        vertical-align: middle;\n",
              "    }\n",
              "\n",
              "    .dataframe tbody tr th {\n",
              "        vertical-align: top;\n",
              "    }\n",
              "\n",
              "    .dataframe thead th {\n",
              "        text-align: right;\n",
              "    }\n",
              "</style>\n",
              "<table border=\"1\" class=\"dataframe\">\n",
              "  <thead>\n",
              "    <tr style=\"text-align: right;\">\n",
              "      <th></th>\n",
              "      <th>college</th>\n",
              "      <th>income</th>\n",
              "      <th>data_overage_mb</th>\n",
              "      <th>data_leftover_mb</th>\n",
              "      <th>data_mb_used</th>\n",
              "      <th>text_message_count</th>\n",
              "      <th>house</th>\n",
              "      <th>handset_price</th>\n",
              "      <th>over_15mins_calls_per_month</th>\n",
              "      <th>average_call_duration</th>\n",
              "      <th>reported_satisfaction</th>\n",
              "      <th>reported_usage_level</th>\n",
              "      <th>considering_change_of_plan</th>\n",
              "      <th>leave</th>\n",
              "      <th>id</th>\n",
              "      <th>operating_system</th>\n",
              "    </tr>\n",
              "  </thead>\n",
              "  <tbody>\n",
              "    <tr>\n",
              "      <th>0</th>\n",
              "      <td>one</td>\n",
              "      <td>403137</td>\n",
              "      <td>70</td>\n",
              "      <td>0</td>\n",
              "      <td>6605</td>\n",
              "      <td>199</td>\n",
              "      <td>841317</td>\n",
              "      <td>653</td>\n",
              "      <td>5.0</td>\n",
              "      <td>8</td>\n",
              "      <td>low</td>\n",
              "      <td>low</td>\n",
              "      <td>yes</td>\n",
              "      <td>LEAVE</td>\n",
              "      <td>8183</td>\n",
              "      <td>Android</td>\n",
              "    </tr>\n",
              "    <tr>\n",
              "      <th>1</th>\n",
              "      <td>zero</td>\n",
              "      <td>129700</td>\n",
              "      <td>67</td>\n",
              "      <td>16</td>\n",
              "      <td>6028</td>\n",
              "      <td>134</td>\n",
              "      <td>476664</td>\n",
              "      <td>1193</td>\n",
              "      <td>5.0</td>\n",
              "      <td>5</td>\n",
              "      <td>low</td>\n",
              "      <td>low</td>\n",
              "      <td>yes</td>\n",
              "      <td>LEAVE</td>\n",
              "      <td>12501</td>\n",
              "      <td>IOS</td>\n",
              "    </tr>\n",
              "    <tr>\n",
              "      <th>2</th>\n",
              "      <td>zero</td>\n",
              "      <td>69741</td>\n",
              "      <td>60</td>\n",
              "      <td>0</td>\n",
              "      <td>1482</td>\n",
              "      <td>176</td>\n",
              "      <td>810225</td>\n",
              "      <td>1037</td>\n",
              "      <td>3.0</td>\n",
              "      <td>8</td>\n",
              "      <td>low</td>\n",
              "      <td>low</td>\n",
              "      <td>yes</td>\n",
              "      <td>STAY</td>\n",
              "      <td>7425</td>\n",
              "      <td>IOS</td>\n",
              "    </tr>\n",
              "    <tr>\n",
              "      <th>3</th>\n",
              "      <td>one</td>\n",
              "      <td>377572</td>\n",
              "      <td>0</td>\n",
              "      <td>22</td>\n",
              "      <td>3005</td>\n",
              "      <td>184</td>\n",
              "      <td>826967</td>\n",
              "      <td>1161</td>\n",
              "      <td>0.0</td>\n",
              "      <td>5</td>\n",
              "      <td>low</td>\n",
              "      <td>low</td>\n",
              "      <td>no</td>\n",
              "      <td>LEAVE</td>\n",
              "      <td>13488</td>\n",
              "      <td>IOS</td>\n",
              "    </tr>\n",
              "    <tr>\n",
              "      <th>4</th>\n",
              "      <td>zero</td>\n",
              "      <td>382080</td>\n",
              "      <td>0</td>\n",
              "      <td>0</td>\n",
              "      <td>1794</td>\n",
              "      <td>74</td>\n",
              "      <td>951896</td>\n",
              "      <td>1023</td>\n",
              "      <td>0.0</td>\n",
              "      <td>14</td>\n",
              "      <td>low</td>\n",
              "      <td>low</td>\n",
              "      <td>yes</td>\n",
              "      <td>STAY</td>\n",
              "      <td>11389</td>\n",
              "      <td>IOS</td>\n",
              "    </tr>\n",
              "  </tbody>\n",
              "</table>\n",
              "</div>\n",
              "    <div class=\"colab-df-buttons\">\n",
              "\n",
              "  <div class=\"colab-df-container\">\n",
              "    <button class=\"colab-df-convert\" onclick=\"convertToInteractive('df-a7db0e68-76d6-494f-9640-7181e4261eba')\"\n",
              "            title=\"Convert this dataframe to an interactive table.\"\n",
              "            style=\"display:none;\">\n",
              "\n",
              "  <svg xmlns=\"http://www.w3.org/2000/svg\" height=\"24px\" viewBox=\"0 -960 960 960\">\n",
              "    <path d=\"M120-120v-720h720v720H120Zm60-500h600v-160H180v160Zm220 220h160v-160H400v160Zm0 220h160v-160H400v160ZM180-400h160v-160H180v160Zm440 0h160v-160H620v160ZM180-180h160v-160H180v160Zm440 0h160v-160H620v160Z\"/>\n",
              "  </svg>\n",
              "    </button>\n",
              "\n",
              "  <style>\n",
              "    .colab-df-container {\n",
              "      display:flex;\n",
              "      gap: 12px;\n",
              "    }\n",
              "\n",
              "    .colab-df-convert {\n",
              "      background-color: #E8F0FE;\n",
              "      border: none;\n",
              "      border-radius: 50%;\n",
              "      cursor: pointer;\n",
              "      display: none;\n",
              "      fill: #1967D2;\n",
              "      height: 32px;\n",
              "      padding: 0 0 0 0;\n",
              "      width: 32px;\n",
              "    }\n",
              "\n",
              "    .colab-df-convert:hover {\n",
              "      background-color: #E2EBFA;\n",
              "      box-shadow: 0px 1px 2px rgba(60, 64, 67, 0.3), 0px 1px 3px 1px rgba(60, 64, 67, 0.15);\n",
              "      fill: #174EA6;\n",
              "    }\n",
              "\n",
              "    .colab-df-buttons div {\n",
              "      margin-bottom: 4px;\n",
              "    }\n",
              "\n",
              "    [theme=dark] .colab-df-convert {\n",
              "      background-color: #3B4455;\n",
              "      fill: #D2E3FC;\n",
              "    }\n",
              "\n",
              "    [theme=dark] .colab-df-convert:hover {\n",
              "      background-color: #434B5C;\n",
              "      box-shadow: 0px 1px 3px 1px rgba(0, 0, 0, 0.15);\n",
              "      filter: drop-shadow(0px 1px 2px rgba(0, 0, 0, 0.3));\n",
              "      fill: #FFFFFF;\n",
              "    }\n",
              "  </style>\n",
              "\n",
              "    <script>\n",
              "      const buttonEl =\n",
              "        document.querySelector('#df-a7db0e68-76d6-494f-9640-7181e4261eba button.colab-df-convert');\n",
              "      buttonEl.style.display =\n",
              "        google.colab.kernel.accessAllowed ? 'block' : 'none';\n",
              "\n",
              "      async function convertToInteractive(key) {\n",
              "        const element = document.querySelector('#df-a7db0e68-76d6-494f-9640-7181e4261eba');\n",
              "        const dataTable =\n",
              "          await google.colab.kernel.invokeFunction('convertToInteractive',\n",
              "                                                    [key], {});\n",
              "        if (!dataTable) return;\n",
              "\n",
              "        const docLinkHtml = 'Like what you see? Visit the ' +\n",
              "          '<a target=\"_blank\" href=https://colab.research.google.com/notebooks/data_table.ipynb>data table notebook</a>'\n",
              "          + ' to learn more about interactive tables.';\n",
              "        element.innerHTML = '';\n",
              "        dataTable['output_type'] = 'display_data';\n",
              "        await google.colab.output.renderOutput(dataTable, element);\n",
              "        const docLink = document.createElement('div');\n",
              "        docLink.innerHTML = docLinkHtml;\n",
              "        element.appendChild(docLink);\n",
              "      }\n",
              "    </script>\n",
              "  </div>\n",
              "\n",
              "\n",
              "<div id=\"df-ad6c27c7-678d-43ef-86bc-e80e9b5199ff\">\n",
              "  <button class=\"colab-df-quickchart\" onclick=\"quickchart('df-ad6c27c7-678d-43ef-86bc-e80e9b5199ff')\"\n",
              "            title=\"Suggest charts\"\n",
              "            style=\"display:none;\">\n",
              "\n",
              "<svg xmlns=\"http://www.w3.org/2000/svg\" height=\"24px\"viewBox=\"0 0 24 24\"\n",
              "     width=\"24px\">\n",
              "    <g>\n",
              "        <path d=\"M19 3H5c-1.1 0-2 .9-2 2v14c0 1.1.9 2 2 2h14c1.1 0 2-.9 2-2V5c0-1.1-.9-2-2-2zM9 17H7v-7h2v7zm4 0h-2V7h2v10zm4 0h-2v-4h2v4z\"/>\n",
              "    </g>\n",
              "</svg>\n",
              "  </button>\n",
              "\n",
              "<style>\n",
              "  .colab-df-quickchart {\n",
              "      --bg-color: #E8F0FE;\n",
              "      --fill-color: #1967D2;\n",
              "      --hover-bg-color: #E2EBFA;\n",
              "      --hover-fill-color: #174EA6;\n",
              "      --disabled-fill-color: #AAA;\n",
              "      --disabled-bg-color: #DDD;\n",
              "  }\n",
              "\n",
              "  [theme=dark] .colab-df-quickchart {\n",
              "      --bg-color: #3B4455;\n",
              "      --fill-color: #D2E3FC;\n",
              "      --hover-bg-color: #434B5C;\n",
              "      --hover-fill-color: #FFFFFF;\n",
              "      --disabled-bg-color: #3B4455;\n",
              "      --disabled-fill-color: #666;\n",
              "  }\n",
              "\n",
              "  .colab-df-quickchart {\n",
              "    background-color: var(--bg-color);\n",
              "    border: none;\n",
              "    border-radius: 50%;\n",
              "    cursor: pointer;\n",
              "    display: none;\n",
              "    fill: var(--fill-color);\n",
              "    height: 32px;\n",
              "    padding: 0;\n",
              "    width: 32px;\n",
              "  }\n",
              "\n",
              "  .colab-df-quickchart:hover {\n",
              "    background-color: var(--hover-bg-color);\n",
              "    box-shadow: 0 1px 2px rgba(60, 64, 67, 0.3), 0 1px 3px 1px rgba(60, 64, 67, 0.15);\n",
              "    fill: var(--button-hover-fill-color);\n",
              "  }\n",
              "\n",
              "  .colab-df-quickchart-complete:disabled,\n",
              "  .colab-df-quickchart-complete:disabled:hover {\n",
              "    background-color: var(--disabled-bg-color);\n",
              "    fill: var(--disabled-fill-color);\n",
              "    box-shadow: none;\n",
              "  }\n",
              "\n",
              "  .colab-df-spinner {\n",
              "    border: 2px solid var(--fill-color);\n",
              "    border-color: transparent;\n",
              "    border-bottom-color: var(--fill-color);\n",
              "    animation:\n",
              "      spin 1s steps(1) infinite;\n",
              "  }\n",
              "\n",
              "  @keyframes spin {\n",
              "    0% {\n",
              "      border-color: transparent;\n",
              "      border-bottom-color: var(--fill-color);\n",
              "      border-left-color: var(--fill-color);\n",
              "    }\n",
              "    20% {\n",
              "      border-color: transparent;\n",
              "      border-left-color: var(--fill-color);\n",
              "      border-top-color: var(--fill-color);\n",
              "    }\n",
              "    30% {\n",
              "      border-color: transparent;\n",
              "      border-left-color: var(--fill-color);\n",
              "      border-top-color: var(--fill-color);\n",
              "      border-right-color: var(--fill-color);\n",
              "    }\n",
              "    40% {\n",
              "      border-color: transparent;\n",
              "      border-right-color: var(--fill-color);\n",
              "      border-top-color: var(--fill-color);\n",
              "    }\n",
              "    60% {\n",
              "      border-color: transparent;\n",
              "      border-right-color: var(--fill-color);\n",
              "    }\n",
              "    80% {\n",
              "      border-color: transparent;\n",
              "      border-right-color: var(--fill-color);\n",
              "      border-bottom-color: var(--fill-color);\n",
              "    }\n",
              "    90% {\n",
              "      border-color: transparent;\n",
              "      border-bottom-color: var(--fill-color);\n",
              "    }\n",
              "  }\n",
              "</style>\n",
              "\n",
              "  <script>\n",
              "    async function quickchart(key) {\n",
              "      const quickchartButtonEl =\n",
              "        document.querySelector('#' + key + ' button');\n",
              "      quickchartButtonEl.disabled = true;  // To prevent multiple clicks.\n",
              "      quickchartButtonEl.classList.add('colab-df-spinner');\n",
              "      try {\n",
              "        const charts = await google.colab.kernel.invokeFunction(\n",
              "            'suggestCharts', [key], {});\n",
              "      } catch (error) {\n",
              "        console.error('Error during call to suggestCharts:', error);\n",
              "      }\n",
              "      quickchartButtonEl.classList.remove('colab-df-spinner');\n",
              "      quickchartButtonEl.classList.add('colab-df-quickchart-complete');\n",
              "    }\n",
              "    (() => {\n",
              "      let quickchartButtonEl =\n",
              "        document.querySelector('#df-ad6c27c7-678d-43ef-86bc-e80e9b5199ff button');\n",
              "      quickchartButtonEl.style.display =\n",
              "        google.colab.kernel.accessAllowed ? 'block' : 'none';\n",
              "    })();\n",
              "  </script>\n",
              "</div>\n",
              "\n",
              "    </div>\n",
              "  </div>\n"
            ],
            "application/vnd.google.colaboratory.intrinsic+json": {
              "type": "dataframe",
              "variable_name": "df",
              "summary": "{\n  \"name\": \"df\",\n  \"rows\": 14999,\n  \"fields\": [\n    {\n      \"column\": \"college\",\n      \"properties\": {\n        \"dtype\": \"category\",\n        \"num_unique_values\": 2,\n        \"samples\": [\n          \"zero\",\n          \"one\"\n        ],\n        \"semantic_type\": \"\",\n        \"description\": \"\"\n      }\n    },\n    {\n      \"column\": \"income\",\n      \"properties\": {\n        \"dtype\": \"number\",\n        \"std\": 109603,\n        \"min\": -65000,\n        \"max\": 432000,\n        \"num_unique_values\": 14725,\n        \"samples\": [\n          419028,\n          111621\n        ],\n        \"semantic_type\": \"\",\n        \"description\": \"\"\n      }\n    },\n    {\n      \"column\": \"data_overage_mb\",\n      \"properties\": {\n        \"dtype\": \"number\",\n        \"std\": 113,\n        \"min\": 0,\n        \"max\": 380,\n        \"num_unique_values\": 381,\n        \"samples\": [\n          294,\n          163\n        ],\n        \"semantic_type\": \"\",\n        \"description\": \"\"\n      }\n    },\n    {\n      \"column\": \"data_leftover_mb\",\n      \"properties\": {\n        \"dtype\": \"number\",\n        \"std\": 28,\n        \"min\": 0,\n        \"max\": 89,\n        \"num_unique_values\": 90,\n        \"samples\": [\n          80,\n          46\n        ],\n        \"semantic_type\": \"\",\n        \"description\": \"\"\n      }\n    },\n    {\n      \"column\": \"data_mb_used\",\n      \"properties\": {\n        \"dtype\": \"number\",\n        \"std\": 2202,\n        \"min\": 400,\n        \"max\": 8000,\n        \"num_unique_values\": 6520,\n        \"samples\": [\n          2471,\n          2336\n        ],\n        \"semantic_type\": \"\",\n        \"description\": \"\"\n      }\n    },\n    {\n      \"column\": \"text_message_count\",\n      \"properties\": {\n        \"dtype\": \"number\",\n        \"std\": 48,\n        \"min\": 52,\n        \"max\": 220,\n        \"num_unique_values\": 169,\n        \"samples\": [\n          103,\n          144\n        ],\n        \"semantic_type\": \"\",\n        \"description\": \"\"\n      }\n    },\n    {\n      \"column\": \"house\",\n      \"properties\": {\n        \"dtype\": \"number\",\n        \"std\": 287031,\n        \"min\": -463,\n        \"max\": 1456389,\n        \"num_unique_values\": 14885,\n        \"samples\": [\n          1164856,\n          1452898\n        ],\n        \"semantic_type\": \"\",\n        \"description\": \"\"\n      }\n    },\n    {\n      \"column\": \"handset_price\",\n      \"properties\": {\n        \"dtype\": \"number\",\n        \"std\": 1235,\n        \"min\": 215,\n        \"max\": 125000,\n        \"num_unique_values\": 1139,\n        \"samples\": [\n          1261,\n          962\n        ],\n        \"semantic_type\": \"\",\n        \"description\": \"\"\n      }\n    },\n    {\n      \"column\": \"over_15mins_calls_per_month\",\n      \"properties\": {\n        \"dtype\": \"number\",\n        \"std\": 8.402099860067379,\n        \"min\": 0.0,\n        \"max\": 35.0,\n        \"num_unique_values\": 36,\n        \"samples\": [\n          30.0,\n          22.0\n        ],\n        \"semantic_type\": \"\",\n        \"description\": \"\"\n      }\n    },\n    {\n      \"column\": \"average_call_duration\",\n      \"properties\": {\n        \"dtype\": \"number\",\n        \"std\": 5,\n        \"min\": 1,\n        \"max\": 19,\n        \"num_unique_values\": 19,\n        \"samples\": [\n          8,\n          10\n        ],\n        \"semantic_type\": \"\",\n        \"description\": \"\"\n      }\n    },\n    {\n      \"column\": \"reported_satisfaction\",\n      \"properties\": {\n        \"dtype\": \"category\",\n        \"num_unique_values\": 3,\n        \"samples\": [\n          \"low\",\n          \"high\"\n        ],\n        \"semantic_type\": \"\",\n        \"description\": \"\"\n      }\n    },\n    {\n      \"column\": \"reported_usage_level\",\n      \"properties\": {\n        \"dtype\": \"category\",\n        \"num_unique_values\": 3,\n        \"samples\": [\n          \"low\",\n          \"high\"\n        ],\n        \"semantic_type\": \"\",\n        \"description\": \"\"\n      }\n    },\n    {\n      \"column\": \"considering_change_of_plan\",\n      \"properties\": {\n        \"dtype\": \"category\",\n        \"num_unique_values\": 3,\n        \"samples\": [\n          \"yes\",\n          \"no\"\n        ],\n        \"semantic_type\": \"\",\n        \"description\": \"\"\n      }\n    },\n    {\n      \"column\": \"leave\",\n      \"properties\": {\n        \"dtype\": \"category\",\n        \"num_unique_values\": 2,\n        \"samples\": [\n          \"STAY\",\n          \"LEAVE\"\n        ],\n        \"semantic_type\": \"\",\n        \"description\": \"\"\n      }\n    },\n    {\n      \"column\": \"id\",\n      \"properties\": {\n        \"dtype\": \"number\",\n        \"std\": 6812,\n        \"min\": 2,\n        \"max\": 25354,\n        \"num_unique_values\": 11560,\n        \"samples\": [\n          18399,\n          10017\n        ],\n        \"semantic_type\": \"\",\n        \"description\": \"\"\n      }\n    },\n    {\n      \"column\": \"operating_system\",\n      \"properties\": {\n        \"dtype\": \"category\",\n        \"num_unique_values\": 2,\n        \"samples\": [\n          \"IOS\",\n          \"Android\"\n        ],\n        \"semantic_type\": \"\",\n        \"description\": \"\"\n      }\n    }\n  ]\n}"
            }
          },
          "metadata": {},
          "execution_count": 2
        }
      ],
      "source": [
        "df = pd.read_csv('https://raw.githubusercontent.com/Stan-Pugsley/is_4487_base/refs/heads/main/Labs/DataSets/megatelco_leave_survey.csv')\n",
        "df.head()"
      ]
    },
    {
      "cell_type": "markdown",
      "metadata": {
        "id": "BtxOWvFlKzgE"
      },
      "source": [
        "## Clean up the data\n",
        "Did you notice anything unusual about the \"house\" amounts?\n",
        "\n",
        "How about the handset price and income?\n",
        "\n",
        "Clean up the data in a  new datafram named \"df_clean\"\n"
      ]
    },
    {
      "cell_type": "code",
      "execution_count": 3,
      "metadata": {
        "id": "7KXLvMcBK8Za",
        "colab": {
          "base_uri": "https://localhost:8080/",
          "height": 300
        },
        "outputId": "7a623ece-fcb1-48ef-fd93-cc4676df44a1"
      },
      "outputs": [
        {
          "output_type": "execute_result",
          "data": {
            "text/plain": [
              "              income  data_overage_mb  data_leftover_mb  data_mb_used  \\\n",
              "count   10412.000000     10412.000000      10412.000000  10412.000000   \n",
              "mean   242068.987706       153.847003         37.472436   4195.399827   \n",
              "std    109041.788157       113.013727         28.015291   2205.189091   \n",
              "min     52491.000000         0.000000          0.000000    400.000000   \n",
              "25%    148548.000000        55.000000         12.000000   2290.750000   \n",
              "50%    241663.000000       151.000000         35.000000   4206.500000   \n",
              "75%    335660.500000       242.000000         62.000000   6079.250000   \n",
              "max    431916.000000       380.000000         89.000000   8000.000000   \n",
              "\n",
              "       text_message_count         house  handset_price  \\\n",
              "count        10412.000000  1.041200e+04   10412.000000   \n",
              "mean           135.500000  8.758348e+05     607.473492   \n",
              "std             48.916131  2.868363e+05     225.506388   \n",
              "min             52.000000  3.202380e+05     215.000000   \n",
              "25%             93.000000  6.447640e+05     413.000000   \n",
              "50%            135.000000  8.730785e+05     608.000000   \n",
              "75%            178.000000  1.098298e+06     802.000000   \n",
              "max            220.000000  1.456389e+06     999.000000   \n",
              "\n",
              "       over_15mins_calls_per_month  average_call_duration            id  \n",
              "count                 10412.000000           10412.000000  10412.000000  \n",
              "mean                     10.571072               9.747503  11839.793988  \n",
              "std                       8.444673               5.180381   6805.159729  \n",
              "min                       0.000000               1.000000      2.000000  \n",
              "25%                       3.000000               5.000000   6070.750000  \n",
              "50%                       9.000000              10.000000  11743.000000  \n",
              "75%                      17.000000              14.000000  17330.500000  \n",
              "max                      35.000000              19.000000  25354.000000  "
            ],
            "text/html": [
              "\n",
              "  <div id=\"df-2e70abd5-51ed-49f9-93d4-310106a91c8f\" class=\"colab-df-container\">\n",
              "    <div>\n",
              "<style scoped>\n",
              "    .dataframe tbody tr th:only-of-type {\n",
              "        vertical-align: middle;\n",
              "    }\n",
              "\n",
              "    .dataframe tbody tr th {\n",
              "        vertical-align: top;\n",
              "    }\n",
              "\n",
              "    .dataframe thead th {\n",
              "        text-align: right;\n",
              "    }\n",
              "</style>\n",
              "<table border=\"1\" class=\"dataframe\">\n",
              "  <thead>\n",
              "    <tr style=\"text-align: right;\">\n",
              "      <th></th>\n",
              "      <th>income</th>\n",
              "      <th>data_overage_mb</th>\n",
              "      <th>data_leftover_mb</th>\n",
              "      <th>data_mb_used</th>\n",
              "      <th>text_message_count</th>\n",
              "      <th>house</th>\n",
              "      <th>handset_price</th>\n",
              "      <th>over_15mins_calls_per_month</th>\n",
              "      <th>average_call_duration</th>\n",
              "      <th>id</th>\n",
              "    </tr>\n",
              "  </thead>\n",
              "  <tbody>\n",
              "    <tr>\n",
              "      <th>count</th>\n",
              "      <td>10412.000000</td>\n",
              "      <td>10412.000000</td>\n",
              "      <td>10412.000000</td>\n",
              "      <td>10412.000000</td>\n",
              "      <td>10412.000000</td>\n",
              "      <td>1.041200e+04</td>\n",
              "      <td>10412.000000</td>\n",
              "      <td>10412.000000</td>\n",
              "      <td>10412.000000</td>\n",
              "      <td>10412.000000</td>\n",
              "    </tr>\n",
              "    <tr>\n",
              "      <th>mean</th>\n",
              "      <td>242068.987706</td>\n",
              "      <td>153.847003</td>\n",
              "      <td>37.472436</td>\n",
              "      <td>4195.399827</td>\n",
              "      <td>135.500000</td>\n",
              "      <td>8.758348e+05</td>\n",
              "      <td>607.473492</td>\n",
              "      <td>10.571072</td>\n",
              "      <td>9.747503</td>\n",
              "      <td>11839.793988</td>\n",
              "    </tr>\n",
              "    <tr>\n",
              "      <th>std</th>\n",
              "      <td>109041.788157</td>\n",
              "      <td>113.013727</td>\n",
              "      <td>28.015291</td>\n",
              "      <td>2205.189091</td>\n",
              "      <td>48.916131</td>\n",
              "      <td>2.868363e+05</td>\n",
              "      <td>225.506388</td>\n",
              "      <td>8.444673</td>\n",
              "      <td>5.180381</td>\n",
              "      <td>6805.159729</td>\n",
              "    </tr>\n",
              "    <tr>\n",
              "      <th>min</th>\n",
              "      <td>52491.000000</td>\n",
              "      <td>0.000000</td>\n",
              "      <td>0.000000</td>\n",
              "      <td>400.000000</td>\n",
              "      <td>52.000000</td>\n",
              "      <td>3.202380e+05</td>\n",
              "      <td>215.000000</td>\n",
              "      <td>0.000000</td>\n",
              "      <td>1.000000</td>\n",
              "      <td>2.000000</td>\n",
              "    </tr>\n",
              "    <tr>\n",
              "      <th>25%</th>\n",
              "      <td>148548.000000</td>\n",
              "      <td>55.000000</td>\n",
              "      <td>12.000000</td>\n",
              "      <td>2290.750000</td>\n",
              "      <td>93.000000</td>\n",
              "      <td>6.447640e+05</td>\n",
              "      <td>413.000000</td>\n",
              "      <td>3.000000</td>\n",
              "      <td>5.000000</td>\n",
              "      <td>6070.750000</td>\n",
              "    </tr>\n",
              "    <tr>\n",
              "      <th>50%</th>\n",
              "      <td>241663.000000</td>\n",
              "      <td>151.000000</td>\n",
              "      <td>35.000000</td>\n",
              "      <td>4206.500000</td>\n",
              "      <td>135.000000</td>\n",
              "      <td>8.730785e+05</td>\n",
              "      <td>608.000000</td>\n",
              "      <td>9.000000</td>\n",
              "      <td>10.000000</td>\n",
              "      <td>11743.000000</td>\n",
              "    </tr>\n",
              "    <tr>\n",
              "      <th>75%</th>\n",
              "      <td>335660.500000</td>\n",
              "      <td>242.000000</td>\n",
              "      <td>62.000000</td>\n",
              "      <td>6079.250000</td>\n",
              "      <td>178.000000</td>\n",
              "      <td>1.098298e+06</td>\n",
              "      <td>802.000000</td>\n",
              "      <td>17.000000</td>\n",
              "      <td>14.000000</td>\n",
              "      <td>17330.500000</td>\n",
              "    </tr>\n",
              "    <tr>\n",
              "      <th>max</th>\n",
              "      <td>431916.000000</td>\n",
              "      <td>380.000000</td>\n",
              "      <td>89.000000</td>\n",
              "      <td>8000.000000</td>\n",
              "      <td>220.000000</td>\n",
              "      <td>1.456389e+06</td>\n",
              "      <td>999.000000</td>\n",
              "      <td>35.000000</td>\n",
              "      <td>19.000000</td>\n",
              "      <td>25354.000000</td>\n",
              "    </tr>\n",
              "  </tbody>\n",
              "</table>\n",
              "</div>\n",
              "    <div class=\"colab-df-buttons\">\n",
              "\n",
              "  <div class=\"colab-df-container\">\n",
              "    <button class=\"colab-df-convert\" onclick=\"convertToInteractive('df-2e70abd5-51ed-49f9-93d4-310106a91c8f')\"\n",
              "            title=\"Convert this dataframe to an interactive table.\"\n",
              "            style=\"display:none;\">\n",
              "\n",
              "  <svg xmlns=\"http://www.w3.org/2000/svg\" height=\"24px\" viewBox=\"0 -960 960 960\">\n",
              "    <path d=\"M120-120v-720h720v720H120Zm60-500h600v-160H180v160Zm220 220h160v-160H400v160Zm0 220h160v-160H400v160ZM180-400h160v-160H180v160Zm440 0h160v-160H620v160ZM180-180h160v-160H180v160Zm440 0h160v-160H620v160Z\"/>\n",
              "  </svg>\n",
              "    </button>\n",
              "\n",
              "  <style>\n",
              "    .colab-df-container {\n",
              "      display:flex;\n",
              "      gap: 12px;\n",
              "    }\n",
              "\n",
              "    .colab-df-convert {\n",
              "      background-color: #E8F0FE;\n",
              "      border: none;\n",
              "      border-radius: 50%;\n",
              "      cursor: pointer;\n",
              "      display: none;\n",
              "      fill: #1967D2;\n",
              "      height: 32px;\n",
              "      padding: 0 0 0 0;\n",
              "      width: 32px;\n",
              "    }\n",
              "\n",
              "    .colab-df-convert:hover {\n",
              "      background-color: #E2EBFA;\n",
              "      box-shadow: 0px 1px 2px rgba(60, 64, 67, 0.3), 0px 1px 3px 1px rgba(60, 64, 67, 0.15);\n",
              "      fill: #174EA6;\n",
              "    }\n",
              "\n",
              "    .colab-df-buttons div {\n",
              "      margin-bottom: 4px;\n",
              "    }\n",
              "\n",
              "    [theme=dark] .colab-df-convert {\n",
              "      background-color: #3B4455;\n",
              "      fill: #D2E3FC;\n",
              "    }\n",
              "\n",
              "    [theme=dark] .colab-df-convert:hover {\n",
              "      background-color: #434B5C;\n",
              "      box-shadow: 0px 1px 3px 1px rgba(0, 0, 0, 0.15);\n",
              "      filter: drop-shadow(0px 1px 2px rgba(0, 0, 0, 0.3));\n",
              "      fill: #FFFFFF;\n",
              "    }\n",
              "  </style>\n",
              "\n",
              "    <script>\n",
              "      const buttonEl =\n",
              "        document.querySelector('#df-2e70abd5-51ed-49f9-93d4-310106a91c8f button.colab-df-convert');\n",
              "      buttonEl.style.display =\n",
              "        google.colab.kernel.accessAllowed ? 'block' : 'none';\n",
              "\n",
              "      async function convertToInteractive(key) {\n",
              "        const element = document.querySelector('#df-2e70abd5-51ed-49f9-93d4-310106a91c8f');\n",
              "        const dataTable =\n",
              "          await google.colab.kernel.invokeFunction('convertToInteractive',\n",
              "                                                    [key], {});\n",
              "        if (!dataTable) return;\n",
              "\n",
              "        const docLinkHtml = 'Like what you see? Visit the ' +\n",
              "          '<a target=\"_blank\" href=https://colab.research.google.com/notebooks/data_table.ipynb>data table notebook</a>'\n",
              "          + ' to learn more about interactive tables.';\n",
              "        element.innerHTML = '';\n",
              "        dataTable['output_type'] = 'display_data';\n",
              "        await google.colab.output.renderOutput(dataTable, element);\n",
              "        const docLink = document.createElement('div');\n",
              "        docLink.innerHTML = docLinkHtml;\n",
              "        element.appendChild(docLink);\n",
              "      }\n",
              "    </script>\n",
              "  </div>\n",
              "\n",
              "\n",
              "<div id=\"df-717789f2-53a9-4f65-a6b4-9a6f96f64f1d\">\n",
              "  <button class=\"colab-df-quickchart\" onclick=\"quickchart('df-717789f2-53a9-4f65-a6b4-9a6f96f64f1d')\"\n",
              "            title=\"Suggest charts\"\n",
              "            style=\"display:none;\">\n",
              "\n",
              "<svg xmlns=\"http://www.w3.org/2000/svg\" height=\"24px\"viewBox=\"0 0 24 24\"\n",
              "     width=\"24px\">\n",
              "    <g>\n",
              "        <path d=\"M19 3H5c-1.1 0-2 .9-2 2v14c0 1.1.9 2 2 2h14c1.1 0 2-.9 2-2V5c0-1.1-.9-2-2-2zM9 17H7v-7h2v7zm4 0h-2V7h2v10zm4 0h-2v-4h2v4z\"/>\n",
              "    </g>\n",
              "</svg>\n",
              "  </button>\n",
              "\n",
              "<style>\n",
              "  .colab-df-quickchart {\n",
              "      --bg-color: #E8F0FE;\n",
              "      --fill-color: #1967D2;\n",
              "      --hover-bg-color: #E2EBFA;\n",
              "      --hover-fill-color: #174EA6;\n",
              "      --disabled-fill-color: #AAA;\n",
              "      --disabled-bg-color: #DDD;\n",
              "  }\n",
              "\n",
              "  [theme=dark] .colab-df-quickchart {\n",
              "      --bg-color: #3B4455;\n",
              "      --fill-color: #D2E3FC;\n",
              "      --hover-bg-color: #434B5C;\n",
              "      --hover-fill-color: #FFFFFF;\n",
              "      --disabled-bg-color: #3B4455;\n",
              "      --disabled-fill-color: #666;\n",
              "  }\n",
              "\n",
              "  .colab-df-quickchart {\n",
              "    background-color: var(--bg-color);\n",
              "    border: none;\n",
              "    border-radius: 50%;\n",
              "    cursor: pointer;\n",
              "    display: none;\n",
              "    fill: var(--fill-color);\n",
              "    height: 32px;\n",
              "    padding: 0;\n",
              "    width: 32px;\n",
              "  }\n",
              "\n",
              "  .colab-df-quickchart:hover {\n",
              "    background-color: var(--hover-bg-color);\n",
              "    box-shadow: 0 1px 2px rgba(60, 64, 67, 0.3), 0 1px 3px 1px rgba(60, 64, 67, 0.15);\n",
              "    fill: var(--button-hover-fill-color);\n",
              "  }\n",
              "\n",
              "  .colab-df-quickchart-complete:disabled,\n",
              "  .colab-df-quickchart-complete:disabled:hover {\n",
              "    background-color: var(--disabled-bg-color);\n",
              "    fill: var(--disabled-fill-color);\n",
              "    box-shadow: none;\n",
              "  }\n",
              "\n",
              "  .colab-df-spinner {\n",
              "    border: 2px solid var(--fill-color);\n",
              "    border-color: transparent;\n",
              "    border-bottom-color: var(--fill-color);\n",
              "    animation:\n",
              "      spin 1s steps(1) infinite;\n",
              "  }\n",
              "\n",
              "  @keyframes spin {\n",
              "    0% {\n",
              "      border-color: transparent;\n",
              "      border-bottom-color: var(--fill-color);\n",
              "      border-left-color: var(--fill-color);\n",
              "    }\n",
              "    20% {\n",
              "      border-color: transparent;\n",
              "      border-left-color: var(--fill-color);\n",
              "      border-top-color: var(--fill-color);\n",
              "    }\n",
              "    30% {\n",
              "      border-color: transparent;\n",
              "      border-left-color: var(--fill-color);\n",
              "      border-top-color: var(--fill-color);\n",
              "      border-right-color: var(--fill-color);\n",
              "    }\n",
              "    40% {\n",
              "      border-color: transparent;\n",
              "      border-right-color: var(--fill-color);\n",
              "      border-top-color: var(--fill-color);\n",
              "    }\n",
              "    60% {\n",
              "      border-color: transparent;\n",
              "      border-right-color: var(--fill-color);\n",
              "    }\n",
              "    80% {\n",
              "      border-color: transparent;\n",
              "      border-right-color: var(--fill-color);\n",
              "      border-bottom-color: var(--fill-color);\n",
              "    }\n",
              "    90% {\n",
              "      border-color: transparent;\n",
              "      border-bottom-color: var(--fill-color);\n",
              "    }\n",
              "  }\n",
              "</style>\n",
              "\n",
              "  <script>\n",
              "    async function quickchart(key) {\n",
              "      const quickchartButtonEl =\n",
              "        document.querySelector('#' + key + ' button');\n",
              "      quickchartButtonEl.disabled = true;  // To prevent multiple clicks.\n",
              "      quickchartButtonEl.classList.add('colab-df-spinner');\n",
              "      try {\n",
              "        const charts = await google.colab.kernel.invokeFunction(\n",
              "            'suggestCharts', [key], {});\n",
              "      } catch (error) {\n",
              "        console.error('Error during call to suggestCharts:', error);\n",
              "      }\n",
              "      quickchartButtonEl.classList.remove('colab-df-spinner');\n",
              "      quickchartButtonEl.classList.add('colab-df-quickchart-complete');\n",
              "    }\n",
              "    (() => {\n",
              "      let quickchartButtonEl =\n",
              "        document.querySelector('#df-717789f2-53a9-4f65-a6b4-9a6f96f64f1d button');\n",
              "      quickchartButtonEl.style.display =\n",
              "        google.colab.kernel.accessAllowed ? 'block' : 'none';\n",
              "    })();\n",
              "  </script>\n",
              "</div>\n",
              "\n",
              "    </div>\n",
              "  </div>\n"
            ],
            "application/vnd.google.colaboratory.intrinsic+json": {
              "type": "dataframe",
              "summary": "{\n  \"name\": \"df_clean\",\n  \"rows\": 8,\n  \"fields\": [\n    {\n      \"column\": \"income\",\n      \"properties\": {\n        \"dtype\": \"number\",\n        \"std\": 143536.073632693,\n        \"min\": 10412.0,\n        \"max\": 431916.0,\n        \"num_unique_values\": 8,\n        \"samples\": [\n          242068.9877064925,\n          241663.0,\n          10412.0\n        ],\n        \"semantic_type\": \"\",\n        \"description\": \"\"\n      }\n    },\n    {\n      \"column\": \"data_overage_mb\",\n      \"properties\": {\n        \"dtype\": \"number\",\n        \"std\": 3627.750080361006,\n        \"min\": 0.0,\n        \"max\": 10412.0,\n        \"num_unique_values\": 8,\n        \"samples\": [\n          153.847003457549,\n          151.0,\n          10412.0\n        ],\n        \"semantic_type\": \"\",\n        \"description\": \"\"\n      }\n    },\n    {\n      \"column\": \"data_leftover_mb\",\n      \"properties\": {\n        \"dtype\": \"number\",\n        \"std\": 3667.995019972789,\n        \"min\": 0.0,\n        \"max\": 10412.0,\n        \"num_unique_values\": 8,\n        \"samples\": [\n          37.47243565117172,\n          35.0,\n          10412.0\n        ],\n        \"semantic_type\": \"\",\n        \"description\": \"\"\n      }\n    },\n    {\n      \"column\": \"data_mb_used\",\n      \"properties\": {\n        \"dtype\": \"number\",\n        \"std\": 3304.3593685020755,\n        \"min\": 400.0,\n        \"max\": 10412.0,\n        \"num_unique_values\": 8,\n        \"samples\": [\n          4195.399827122551,\n          4206.5,\n          10412.0\n        ],\n        \"semantic_type\": \"\",\n        \"description\": \"\"\n      }\n    },\n    {\n      \"column\": \"text_message_count\",\n      \"properties\": {\n        \"dtype\": \"number\",\n        \"std\": 3638.113750867573,\n        \"min\": 48.916131456061045,\n        \"max\": 10412.0,\n        \"num_unique_values\": 8,\n        \"samples\": [\n          135.5,\n          135.0,\n          10412.0\n        ],\n        \"semantic_type\": \"\",\n        \"description\": \"\"\n      }\n    },\n    {\n      \"column\": \"house\",\n      \"properties\": {\n        \"dtype\": \"number\",\n        \"std\": 475845.1596563725,\n        \"min\": 10412.0,\n        \"max\": 1456389.0,\n        \"num_unique_values\": 8,\n        \"samples\": [\n          875834.8410487899,\n          873078.5,\n          10412.0\n        ],\n        \"semantic_type\": \"\",\n        \"description\": \"\"\n      }\n    },\n    {\n      \"column\": \"handset_price\",\n      \"properties\": {\n        \"dtype\": \"number\",\n        \"std\": 3496.1287879242127,\n        \"min\": 215.0,\n        \"max\": 10412.0,\n        \"num_unique_values\": 8,\n        \"samples\": [\n          607.4734921244718,\n          608.0,\n          10412.0\n        ],\n        \"semantic_type\": \"\",\n        \"description\": \"\"\n      }\n    },\n    {\n      \"column\": \"over_15mins_calls_per_month\",\n      \"properties\": {\n        \"dtype\": \"number\",\n        \"std\": 3677.02056455809,\n        \"min\": 0.0,\n        \"max\": 10412.0,\n        \"num_unique_values\": 8,\n        \"samples\": [\n          10.571071840184402,\n          9.0,\n          10412.0\n        ],\n        \"semantic_type\": \"\",\n        \"description\": \"\"\n      }\n    },\n    {\n      \"column\": \"average_call_duration\",\n      \"properties\": {\n        \"dtype\": \"number\",\n        \"std\": 3677.9733495940923,\n        \"min\": 1.0,\n        \"max\": 10412.0,\n        \"num_unique_values\": 8,\n        \"samples\": [\n          9.747502881290819,\n          10.0,\n          10412.0\n        ],\n        \"semantic_type\": \"\",\n        \"description\": \"\"\n      }\n    },\n    {\n      \"column\": \"id\",\n      \"properties\": {\n        \"dtype\": \"number\",\n        \"std\": 7655.64849568104,\n        \"min\": 2.0,\n        \"max\": 25354.0,\n        \"num_unique_values\": 8,\n        \"samples\": [\n          11839.793987706493,\n          11743.0,\n          10412.0\n        ],\n        \"semantic_type\": \"\",\n        \"description\": \"\"\n      }\n    }\n  ]\n}"
            }
          },
          "metadata": {},
          "execution_count": 3
        }
      ],
      "source": [
        "#delete rows with outlier data; put it in a new dataframe\n",
        "df_clean = df[(df['house'] > 0) & (df['income'] > 0) & (df['handset_price'] < 1000)]\n",
        "\n",
        "#delete any rows with missing values in the clean dataframe\n",
        "df_clean = df_clean.dropna()\n",
        "\n",
        "df_clean.describe()"
      ]
    },
    {
      "cell_type": "markdown",
      "metadata": {
        "id": "Zp7wGDqJ4iuL"
      },
      "source": [
        "# Standardize attributes\n",
        "\n",
        "- Convert \"college\" to 0,1\n",
        "- Convert reported_satisfaction to 1,2,3\n",
        "- Convert reported_usage_level to 1,2,3\n",
        "- Convert considering_change_of_plan to 0,1\n",
        "- Convert leave to 0,1\n",
        "\n",
        "I'm going to leave the \"leave\" variable in place, just in case I need the original value"
      ]
    },
    {
      "cell_type": "code",
      "execution_count": 4,
      "metadata": {
        "id": "gvMekcKg4y5X",
        "colab": {
          "base_uri": "https://localhost:8080/",
          "height": 383
        },
        "outputId": "b377076d-1809-4f9b-8658-a0224adbe11b"
      },
      "outputs": [
        {
          "output_type": "execute_result",
          "data": {
            "text/plain": [
              "    college  income  data_overage_mb  data_leftover_mb  data_mb_used  \\\n",
              "0         1  403137               70                 0          6605   \n",
              "7         1  131230                0                 0          4489   \n",
              "8         1  193667                0                 0          1023   \n",
              "9         1  419573                0                74          4631   \n",
              "10        0  262085              222                17           530   \n",
              "11        1  310841               74                14          7025   \n",
              "12        0  398292                0                 0          3681   \n",
              "13        0  192245               96                40          4806   \n",
              "16        1  236152                0                21          3881   \n",
              "17        1  422168                0                10           794   \n",
              "\n",
              "    text_message_count    house  handset_price  over_15mins_calls_per_month  \\\n",
              "0                  199   841317            653                          5.0   \n",
              "7                   89   613744            365                          5.0   \n",
              "8                   76   949829            347                          1.0   \n",
              "9                  209   818027            640                          0.0   \n",
              "10                  95   781944            692                         10.0   \n",
              "11                 180   979451            835                          3.0   \n",
              "12                  93   878343            248                          0.0   \n",
              "13                 139  1141088            476                          4.0   \n",
              "16                 189  1364832            745                         13.0   \n",
              "17                 213   909127            874                          1.0   \n",
              "\n",
              "    average_call_duration  reported_satisfaction  reported_usage_level  \\\n",
              "0                       8                      1                     1   \n",
              "7                      10                      1                     3   \n",
              "8                       8                      3                     1   \n",
              "9                       2                      1                     1   \n",
              "10                      1                      3                     3   \n",
              "11                      5                      3                     1   \n",
              "12                      9                      2                     2   \n",
              "13                      2                      1                     3   \n",
              "16                      6                      3                     1   \n",
              "17                      4                      3                     1   \n",
              "\n",
              "    considering_change_of_plan  leave     id operating_system  leave_flag  \n",
              "0                          1.0  LEAVE   8183          Android        True  \n",
              "7                          1.0   STAY  18170          Android       False  \n",
              "8                          0.0  LEAVE   3201          Android        True  \n",
              "9                          1.0  LEAVE  12612          Android        True  \n",
              "10                         1.0  LEAVE   3266          Android        True  \n",
              "11                         0.0   STAY  13155              IOS       False  \n",
              "12                         0.0  LEAVE   1491          Android        True  \n",
              "13                         1.0  LEAVE  13418          Android        True  \n",
              "16                         1.0   STAY   3335          Android       False  \n",
              "17                         1.0   STAY     80              IOS       False  "
            ],
            "text/html": [
              "\n",
              "  <div id=\"df-df84883a-f903-497a-903a-cf5d35e1c57a\" class=\"colab-df-container\">\n",
              "    <div>\n",
              "<style scoped>\n",
              "    .dataframe tbody tr th:only-of-type {\n",
              "        vertical-align: middle;\n",
              "    }\n",
              "\n",
              "    .dataframe tbody tr th {\n",
              "        vertical-align: top;\n",
              "    }\n",
              "\n",
              "    .dataframe thead th {\n",
              "        text-align: right;\n",
              "    }\n",
              "</style>\n",
              "<table border=\"1\" class=\"dataframe\">\n",
              "  <thead>\n",
              "    <tr style=\"text-align: right;\">\n",
              "      <th></th>\n",
              "      <th>college</th>\n",
              "      <th>income</th>\n",
              "      <th>data_overage_mb</th>\n",
              "      <th>data_leftover_mb</th>\n",
              "      <th>data_mb_used</th>\n",
              "      <th>text_message_count</th>\n",
              "      <th>house</th>\n",
              "      <th>handset_price</th>\n",
              "      <th>over_15mins_calls_per_month</th>\n",
              "      <th>average_call_duration</th>\n",
              "      <th>reported_satisfaction</th>\n",
              "      <th>reported_usage_level</th>\n",
              "      <th>considering_change_of_plan</th>\n",
              "      <th>leave</th>\n",
              "      <th>id</th>\n",
              "      <th>operating_system</th>\n",
              "      <th>leave_flag</th>\n",
              "    </tr>\n",
              "  </thead>\n",
              "  <tbody>\n",
              "    <tr>\n",
              "      <th>0</th>\n",
              "      <td>1</td>\n",
              "      <td>403137</td>\n",
              "      <td>70</td>\n",
              "      <td>0</td>\n",
              "      <td>6605</td>\n",
              "      <td>199</td>\n",
              "      <td>841317</td>\n",
              "      <td>653</td>\n",
              "      <td>5.0</td>\n",
              "      <td>8</td>\n",
              "      <td>1</td>\n",
              "      <td>1</td>\n",
              "      <td>1.0</td>\n",
              "      <td>LEAVE</td>\n",
              "      <td>8183</td>\n",
              "      <td>Android</td>\n",
              "      <td>True</td>\n",
              "    </tr>\n",
              "    <tr>\n",
              "      <th>7</th>\n",
              "      <td>1</td>\n",
              "      <td>131230</td>\n",
              "      <td>0</td>\n",
              "      <td>0</td>\n",
              "      <td>4489</td>\n",
              "      <td>89</td>\n",
              "      <td>613744</td>\n",
              "      <td>365</td>\n",
              "      <td>5.0</td>\n",
              "      <td>10</td>\n",
              "      <td>1</td>\n",
              "      <td>3</td>\n",
              "      <td>1.0</td>\n",
              "      <td>STAY</td>\n",
              "      <td>18170</td>\n",
              "      <td>Android</td>\n",
              "      <td>False</td>\n",
              "    </tr>\n",
              "    <tr>\n",
              "      <th>8</th>\n",
              "      <td>1</td>\n",
              "      <td>193667</td>\n",
              "      <td>0</td>\n",
              "      <td>0</td>\n",
              "      <td>1023</td>\n",
              "      <td>76</td>\n",
              "      <td>949829</td>\n",
              "      <td>347</td>\n",
              "      <td>1.0</td>\n",
              "      <td>8</td>\n",
              "      <td>3</td>\n",
              "      <td>1</td>\n",
              "      <td>0.0</td>\n",
              "      <td>LEAVE</td>\n",
              "      <td>3201</td>\n",
              "      <td>Android</td>\n",
              "      <td>True</td>\n",
              "    </tr>\n",
              "    <tr>\n",
              "      <th>9</th>\n",
              "      <td>1</td>\n",
              "      <td>419573</td>\n",
              "      <td>0</td>\n",
              "      <td>74</td>\n",
              "      <td>4631</td>\n",
              "      <td>209</td>\n",
              "      <td>818027</td>\n",
              "      <td>640</td>\n",
              "      <td>0.0</td>\n",
              "      <td>2</td>\n",
              "      <td>1</td>\n",
              "      <td>1</td>\n",
              "      <td>1.0</td>\n",
              "      <td>LEAVE</td>\n",
              "      <td>12612</td>\n",
              "      <td>Android</td>\n",
              "      <td>True</td>\n",
              "    </tr>\n",
              "    <tr>\n",
              "      <th>10</th>\n",
              "      <td>0</td>\n",
              "      <td>262085</td>\n",
              "      <td>222</td>\n",
              "      <td>17</td>\n",
              "      <td>530</td>\n",
              "      <td>95</td>\n",
              "      <td>781944</td>\n",
              "      <td>692</td>\n",
              "      <td>10.0</td>\n",
              "      <td>1</td>\n",
              "      <td>3</td>\n",
              "      <td>3</td>\n",
              "      <td>1.0</td>\n",
              "      <td>LEAVE</td>\n",
              "      <td>3266</td>\n",
              "      <td>Android</td>\n",
              "      <td>True</td>\n",
              "    </tr>\n",
              "    <tr>\n",
              "      <th>11</th>\n",
              "      <td>1</td>\n",
              "      <td>310841</td>\n",
              "      <td>74</td>\n",
              "      <td>14</td>\n",
              "      <td>7025</td>\n",
              "      <td>180</td>\n",
              "      <td>979451</td>\n",
              "      <td>835</td>\n",
              "      <td>3.0</td>\n",
              "      <td>5</td>\n",
              "      <td>3</td>\n",
              "      <td>1</td>\n",
              "      <td>0.0</td>\n",
              "      <td>STAY</td>\n",
              "      <td>13155</td>\n",
              "      <td>IOS</td>\n",
              "      <td>False</td>\n",
              "    </tr>\n",
              "    <tr>\n",
              "      <th>12</th>\n",
              "      <td>0</td>\n",
              "      <td>398292</td>\n",
              "      <td>0</td>\n",
              "      <td>0</td>\n",
              "      <td>3681</td>\n",
              "      <td>93</td>\n",
              "      <td>878343</td>\n",
              "      <td>248</td>\n",
              "      <td>0.0</td>\n",
              "      <td>9</td>\n",
              "      <td>2</td>\n",
              "      <td>2</td>\n",
              "      <td>0.0</td>\n",
              "      <td>LEAVE</td>\n",
              "      <td>1491</td>\n",
              "      <td>Android</td>\n",
              "      <td>True</td>\n",
              "    </tr>\n",
              "    <tr>\n",
              "      <th>13</th>\n",
              "      <td>0</td>\n",
              "      <td>192245</td>\n",
              "      <td>96</td>\n",
              "      <td>40</td>\n",
              "      <td>4806</td>\n",
              "      <td>139</td>\n",
              "      <td>1141088</td>\n",
              "      <td>476</td>\n",
              "      <td>4.0</td>\n",
              "      <td>2</td>\n",
              "      <td>1</td>\n",
              "      <td>3</td>\n",
              "      <td>1.0</td>\n",
              "      <td>LEAVE</td>\n",
              "      <td>13418</td>\n",
              "      <td>Android</td>\n",
              "      <td>True</td>\n",
              "    </tr>\n",
              "    <tr>\n",
              "      <th>16</th>\n",
              "      <td>1</td>\n",
              "      <td>236152</td>\n",
              "      <td>0</td>\n",
              "      <td>21</td>\n",
              "      <td>3881</td>\n",
              "      <td>189</td>\n",
              "      <td>1364832</td>\n",
              "      <td>745</td>\n",
              "      <td>13.0</td>\n",
              "      <td>6</td>\n",
              "      <td>3</td>\n",
              "      <td>1</td>\n",
              "      <td>1.0</td>\n",
              "      <td>STAY</td>\n",
              "      <td>3335</td>\n",
              "      <td>Android</td>\n",
              "      <td>False</td>\n",
              "    </tr>\n",
              "    <tr>\n",
              "      <th>17</th>\n",
              "      <td>1</td>\n",
              "      <td>422168</td>\n",
              "      <td>0</td>\n",
              "      <td>10</td>\n",
              "      <td>794</td>\n",
              "      <td>213</td>\n",
              "      <td>909127</td>\n",
              "      <td>874</td>\n",
              "      <td>1.0</td>\n",
              "      <td>4</td>\n",
              "      <td>3</td>\n",
              "      <td>1</td>\n",
              "      <td>1.0</td>\n",
              "      <td>STAY</td>\n",
              "      <td>80</td>\n",
              "      <td>IOS</td>\n",
              "      <td>False</td>\n",
              "    </tr>\n",
              "  </tbody>\n",
              "</table>\n",
              "</div>\n",
              "    <div class=\"colab-df-buttons\">\n",
              "\n",
              "  <div class=\"colab-df-container\">\n",
              "    <button class=\"colab-df-convert\" onclick=\"convertToInteractive('df-df84883a-f903-497a-903a-cf5d35e1c57a')\"\n",
              "            title=\"Convert this dataframe to an interactive table.\"\n",
              "            style=\"display:none;\">\n",
              "\n",
              "  <svg xmlns=\"http://www.w3.org/2000/svg\" height=\"24px\" viewBox=\"0 -960 960 960\">\n",
              "    <path d=\"M120-120v-720h720v720H120Zm60-500h600v-160H180v160Zm220 220h160v-160H400v160Zm0 220h160v-160H400v160ZM180-400h160v-160H180v160Zm440 0h160v-160H620v160ZM180-180h160v-160H180v160Zm440 0h160v-160H620v160Z\"/>\n",
              "  </svg>\n",
              "    </button>\n",
              "\n",
              "  <style>\n",
              "    .colab-df-container {\n",
              "      display:flex;\n",
              "      gap: 12px;\n",
              "    }\n",
              "\n",
              "    .colab-df-convert {\n",
              "      background-color: #E8F0FE;\n",
              "      border: none;\n",
              "      border-radius: 50%;\n",
              "      cursor: pointer;\n",
              "      display: none;\n",
              "      fill: #1967D2;\n",
              "      height: 32px;\n",
              "      padding: 0 0 0 0;\n",
              "      width: 32px;\n",
              "    }\n",
              "\n",
              "    .colab-df-convert:hover {\n",
              "      background-color: #E2EBFA;\n",
              "      box-shadow: 0px 1px 2px rgba(60, 64, 67, 0.3), 0px 1px 3px 1px rgba(60, 64, 67, 0.15);\n",
              "      fill: #174EA6;\n",
              "    }\n",
              "\n",
              "    .colab-df-buttons div {\n",
              "      margin-bottom: 4px;\n",
              "    }\n",
              "\n",
              "    [theme=dark] .colab-df-convert {\n",
              "      background-color: #3B4455;\n",
              "      fill: #D2E3FC;\n",
              "    }\n",
              "\n",
              "    [theme=dark] .colab-df-convert:hover {\n",
              "      background-color: #434B5C;\n",
              "      box-shadow: 0px 1px 3px 1px rgba(0, 0, 0, 0.15);\n",
              "      filter: drop-shadow(0px 1px 2px rgba(0, 0, 0, 0.3));\n",
              "      fill: #FFFFFF;\n",
              "    }\n",
              "  </style>\n",
              "\n",
              "    <script>\n",
              "      const buttonEl =\n",
              "        document.querySelector('#df-df84883a-f903-497a-903a-cf5d35e1c57a button.colab-df-convert');\n",
              "      buttonEl.style.display =\n",
              "        google.colab.kernel.accessAllowed ? 'block' : 'none';\n",
              "\n",
              "      async function convertToInteractive(key) {\n",
              "        const element = document.querySelector('#df-df84883a-f903-497a-903a-cf5d35e1c57a');\n",
              "        const dataTable =\n",
              "          await google.colab.kernel.invokeFunction('convertToInteractive',\n",
              "                                                    [key], {});\n",
              "        if (!dataTable) return;\n",
              "\n",
              "        const docLinkHtml = 'Like what you see? Visit the ' +\n",
              "          '<a target=\"_blank\" href=https://colab.research.google.com/notebooks/data_table.ipynb>data table notebook</a>'\n",
              "          + ' to learn more about interactive tables.';\n",
              "        element.innerHTML = '';\n",
              "        dataTable['output_type'] = 'display_data';\n",
              "        await google.colab.output.renderOutput(dataTable, element);\n",
              "        const docLink = document.createElement('div');\n",
              "        docLink.innerHTML = docLinkHtml;\n",
              "        element.appendChild(docLink);\n",
              "      }\n",
              "    </script>\n",
              "  </div>\n",
              "\n",
              "\n",
              "<div id=\"df-3967c8f5-2a28-4b20-b205-201ff94141f1\">\n",
              "  <button class=\"colab-df-quickchart\" onclick=\"quickchart('df-3967c8f5-2a28-4b20-b205-201ff94141f1')\"\n",
              "            title=\"Suggest charts\"\n",
              "            style=\"display:none;\">\n",
              "\n",
              "<svg xmlns=\"http://www.w3.org/2000/svg\" height=\"24px\"viewBox=\"0 0 24 24\"\n",
              "     width=\"24px\">\n",
              "    <g>\n",
              "        <path d=\"M19 3H5c-1.1 0-2 .9-2 2v14c0 1.1.9 2 2 2h14c1.1 0 2-.9 2-2V5c0-1.1-.9-2-2-2zM9 17H7v-7h2v7zm4 0h-2V7h2v10zm4 0h-2v-4h2v4z\"/>\n",
              "    </g>\n",
              "</svg>\n",
              "  </button>\n",
              "\n",
              "<style>\n",
              "  .colab-df-quickchart {\n",
              "      --bg-color: #E8F0FE;\n",
              "      --fill-color: #1967D2;\n",
              "      --hover-bg-color: #E2EBFA;\n",
              "      --hover-fill-color: #174EA6;\n",
              "      --disabled-fill-color: #AAA;\n",
              "      --disabled-bg-color: #DDD;\n",
              "  }\n",
              "\n",
              "  [theme=dark] .colab-df-quickchart {\n",
              "      --bg-color: #3B4455;\n",
              "      --fill-color: #D2E3FC;\n",
              "      --hover-bg-color: #434B5C;\n",
              "      --hover-fill-color: #FFFFFF;\n",
              "      --disabled-bg-color: #3B4455;\n",
              "      --disabled-fill-color: #666;\n",
              "  }\n",
              "\n",
              "  .colab-df-quickchart {\n",
              "    background-color: var(--bg-color);\n",
              "    border: none;\n",
              "    border-radius: 50%;\n",
              "    cursor: pointer;\n",
              "    display: none;\n",
              "    fill: var(--fill-color);\n",
              "    height: 32px;\n",
              "    padding: 0;\n",
              "    width: 32px;\n",
              "  }\n",
              "\n",
              "  .colab-df-quickchart:hover {\n",
              "    background-color: var(--hover-bg-color);\n",
              "    box-shadow: 0 1px 2px rgba(60, 64, 67, 0.3), 0 1px 3px 1px rgba(60, 64, 67, 0.15);\n",
              "    fill: var(--button-hover-fill-color);\n",
              "  }\n",
              "\n",
              "  .colab-df-quickchart-complete:disabled,\n",
              "  .colab-df-quickchart-complete:disabled:hover {\n",
              "    background-color: var(--disabled-bg-color);\n",
              "    fill: var(--disabled-fill-color);\n",
              "    box-shadow: none;\n",
              "  }\n",
              "\n",
              "  .colab-df-spinner {\n",
              "    border: 2px solid var(--fill-color);\n",
              "    border-color: transparent;\n",
              "    border-bottom-color: var(--fill-color);\n",
              "    animation:\n",
              "      spin 1s steps(1) infinite;\n",
              "  }\n",
              "\n",
              "  @keyframes spin {\n",
              "    0% {\n",
              "      border-color: transparent;\n",
              "      border-bottom-color: var(--fill-color);\n",
              "      border-left-color: var(--fill-color);\n",
              "    }\n",
              "    20% {\n",
              "      border-color: transparent;\n",
              "      border-left-color: var(--fill-color);\n",
              "      border-top-color: var(--fill-color);\n",
              "    }\n",
              "    30% {\n",
              "      border-color: transparent;\n",
              "      border-left-color: var(--fill-color);\n",
              "      border-top-color: var(--fill-color);\n",
              "      border-right-color: var(--fill-color);\n",
              "    }\n",
              "    40% {\n",
              "      border-color: transparent;\n",
              "      border-right-color: var(--fill-color);\n",
              "      border-top-color: var(--fill-color);\n",
              "    }\n",
              "    60% {\n",
              "      border-color: transparent;\n",
              "      border-right-color: var(--fill-color);\n",
              "    }\n",
              "    80% {\n",
              "      border-color: transparent;\n",
              "      border-right-color: var(--fill-color);\n",
              "      border-bottom-color: var(--fill-color);\n",
              "    }\n",
              "    90% {\n",
              "      border-color: transparent;\n",
              "      border-bottom-color: var(--fill-color);\n",
              "    }\n",
              "  }\n",
              "</style>\n",
              "\n",
              "  <script>\n",
              "    async function quickchart(key) {\n",
              "      const quickchartButtonEl =\n",
              "        document.querySelector('#' + key + ' button');\n",
              "      quickchartButtonEl.disabled = true;  // To prevent multiple clicks.\n",
              "      quickchartButtonEl.classList.add('colab-df-spinner');\n",
              "      try {\n",
              "        const charts = await google.colab.kernel.invokeFunction(\n",
              "            'suggestCharts', [key], {});\n",
              "      } catch (error) {\n",
              "        console.error('Error during call to suggestCharts:', error);\n",
              "      }\n",
              "      quickchartButtonEl.classList.remove('colab-df-spinner');\n",
              "      quickchartButtonEl.classList.add('colab-df-quickchart-complete');\n",
              "    }\n",
              "    (() => {\n",
              "      let quickchartButtonEl =\n",
              "        document.querySelector('#df-3967c8f5-2a28-4b20-b205-201ff94141f1 button');\n",
              "      quickchartButtonEl.style.display =\n",
              "        google.colab.kernel.accessAllowed ? 'block' : 'none';\n",
              "    })();\n",
              "  </script>\n",
              "</div>\n",
              "\n",
              "    </div>\n",
              "  </div>\n"
            ],
            "application/vnd.google.colaboratory.intrinsic+json": {
              "type": "dataframe",
              "variable_name": "df_clean",
              "summary": "{\n  \"name\": \"df_clean\",\n  \"rows\": 10412,\n  \"fields\": [\n    {\n      \"column\": \"college\",\n      \"properties\": {\n        \"dtype\": \"number\",\n        \"std\": 0,\n        \"min\": 0,\n        \"max\": 1,\n        \"num_unique_values\": 2,\n        \"samples\": [\n          0,\n          1\n        ],\n        \"semantic_type\": \"\",\n        \"description\": \"\"\n      }\n    },\n    {\n      \"column\": \"income\",\n      \"properties\": {\n        \"dtype\": \"number\",\n        \"std\": 109041,\n        \"min\": 52491,\n        \"max\": 431916,\n        \"num_unique_values\": 10270,\n        \"samples\": [\n          315077,\n          404278\n        ],\n        \"semantic_type\": \"\",\n        \"description\": \"\"\n      }\n    },\n    {\n      \"column\": \"data_overage_mb\",\n      \"properties\": {\n        \"dtype\": \"number\",\n        \"std\": 113,\n        \"min\": 0,\n        \"max\": 380,\n        \"num_unique_values\": 381,\n        \"samples\": [\n          333,\n          16\n        ],\n        \"semantic_type\": \"\",\n        \"description\": \"\"\n      }\n    },\n    {\n      \"column\": \"data_leftover_mb\",\n      \"properties\": {\n        \"dtype\": \"number\",\n        \"std\": 28,\n        \"min\": 0,\n        \"max\": 89,\n        \"num_unique_values\": 90,\n        \"samples\": [\n          7,\n          16\n        ],\n        \"semantic_type\": \"\",\n        \"description\": \"\"\n      }\n    },\n    {\n      \"column\": \"data_mb_used\",\n      \"properties\": {\n        \"dtype\": \"number\",\n        \"std\": 2205,\n        \"min\": 400,\n        \"max\": 8000,\n        \"num_unique_values\": 5665,\n        \"samples\": [\n          1174,\n          7261\n        ],\n        \"semantic_type\": \"\",\n        \"description\": \"\"\n      }\n    },\n    {\n      \"column\": \"text_message_count\",\n      \"properties\": {\n        \"dtype\": \"number\",\n        \"std\": 48,\n        \"min\": 52,\n        \"max\": 220,\n        \"num_unique_values\": 169,\n        \"samples\": [\n          114,\n          94\n        ],\n        \"semantic_type\": \"\",\n        \"description\": \"\"\n      }\n    },\n    {\n      \"column\": \"house\",\n      \"properties\": {\n        \"dtype\": \"number\",\n        \"std\": 286836,\n        \"min\": 320238,\n        \"max\": 1456389,\n        \"num_unique_values\": 10352,\n        \"samples\": [\n          890721,\n          670386\n        ],\n        \"semantic_type\": \"\",\n        \"description\": \"\"\n      }\n    },\n    {\n      \"column\": \"handset_price\",\n      \"properties\": {\n        \"dtype\": \"number\",\n        \"std\": 225,\n        \"min\": 215,\n        \"max\": 999,\n        \"num_unique_values\": 785,\n        \"samples\": [\n          727,\n          243\n        ],\n        \"semantic_type\": \"\",\n        \"description\": \"\"\n      }\n    },\n    {\n      \"column\": \"over_15mins_calls_per_month\",\n      \"properties\": {\n        \"dtype\": \"number\",\n        \"std\": 8.444672702649555,\n        \"min\": 0.0,\n        \"max\": 35.0,\n        \"num_unique_values\": 36,\n        \"samples\": [\n          7.0,\n          19.0\n        ],\n        \"semantic_type\": \"\",\n        \"description\": \"\"\n      }\n    },\n    {\n      \"column\": \"average_call_duration\",\n      \"properties\": {\n        \"dtype\": \"number\",\n        \"std\": 5,\n        \"min\": 1,\n        \"max\": 19,\n        \"num_unique_values\": 19,\n        \"samples\": [\n          8,\n          9\n        ],\n        \"semantic_type\": \"\",\n        \"description\": \"\"\n      }\n    },\n    {\n      \"column\": \"reported_satisfaction\",\n      \"properties\": {\n        \"dtype\": \"number\",\n        \"std\": 0,\n        \"min\": 1,\n        \"max\": 3,\n        \"num_unique_values\": 3,\n        \"samples\": [\n          1,\n          3\n        ],\n        \"semantic_type\": \"\",\n        \"description\": \"\"\n      }\n    },\n    {\n      \"column\": \"reported_usage_level\",\n      \"properties\": {\n        \"dtype\": \"number\",\n        \"std\": 0,\n        \"min\": 1,\n        \"max\": 3,\n        \"num_unique_values\": 3,\n        \"samples\": [\n          1,\n          3\n        ],\n        \"semantic_type\": \"\",\n        \"description\": \"\"\n      }\n    },\n    {\n      \"column\": \"considering_change_of_plan\",\n      \"properties\": {\n        \"dtype\": \"number\",\n        \"std\": 0.46380525846204884,\n        \"min\": 0.0,\n        \"max\": 1.0,\n        \"num_unique_values\": 3,\n        \"samples\": [\n          1.0,\n          0.0\n        ],\n        \"semantic_type\": \"\",\n        \"description\": \"\"\n      }\n    },\n    {\n      \"column\": \"leave\",\n      \"properties\": {\n        \"dtype\": \"category\",\n        \"num_unique_values\": 2,\n        \"samples\": [\n          \"STAY\",\n          \"LEAVE\"\n        ],\n        \"semantic_type\": \"\",\n        \"description\": \"\"\n      }\n    },\n    {\n      \"column\": \"id\",\n      \"properties\": {\n        \"dtype\": \"number\",\n        \"std\": 6805,\n        \"min\": 2,\n        \"max\": 25354,\n        \"num_unique_values\": 8678,\n        \"samples\": [\n          8796,\n          15139\n        ],\n        \"semantic_type\": \"\",\n        \"description\": \"\"\n      }\n    },\n    {\n      \"column\": \"operating_system\",\n      \"properties\": {\n        \"dtype\": \"category\",\n        \"num_unique_values\": 2,\n        \"samples\": [\n          \"IOS\",\n          \"Android\"\n        ],\n        \"semantic_type\": \"\",\n        \"description\": \"\"\n      }\n    },\n    {\n      \"column\": \"leave_flag\",\n      \"properties\": {\n        \"dtype\": \"boolean\",\n        \"num_unique_values\": 2,\n        \"samples\": [\n          false,\n          true\n        ],\n        \"semantic_type\": \"\",\n        \"description\": \"\"\n      }\n    }\n  ]\n}"
            }
          },
          "metadata": {},
          "execution_count": 4
        }
      ],
      "source": [
        "df_clean.loc[df_clean['college'] == 'one', 'college'] = \"1\"\n",
        "df_clean.loc[df_clean['college'] == 'zero', 'college'] = \"0\"\n",
        "df_clean.loc[df_clean['reported_satisfaction'] == 'low', 'reported_satisfaction'] = \"1\"\n",
        "df_clean.loc[df_clean['reported_satisfaction'] == 'avg', 'reported_satisfaction'] = \"2\"\n",
        "df_clean.loc[df_clean['reported_satisfaction'] == 'high', 'reported_satisfaction'] = \"3\"\n",
        "df_clean.loc[df_clean['reported_usage_level'] == 'low', 'reported_usage_level'] = \"1\"\n",
        "df_clean.loc[df_clean['reported_usage_level'] == 'avg', 'reported_usage_level'] = \"2\"\n",
        "df_clean.loc[df_clean['reported_usage_level'] == 'high', 'reported_usage_level'] = \"3\"\n",
        "df_clean.loc[df_clean['considering_change_of_plan'] == 'yes', 'considering_change_of_plan'] = \"1\"\n",
        "df_clean.loc[df_clean['considering_change_of_plan'] == 'no', 'considering_change_of_plan'] = \"0\"\n",
        "df_clean.loc[df_clean['considering_change_of_plan'] == 'maybe', 'considering_change_of_plan'] = \"0.5\"\n",
        "\n",
        "df_clean['college'] = df_clean['college'].astype('int')\n",
        "df_clean['reported_satisfaction'] = df_clean['reported_satisfaction'].astype('int')\n",
        "df_clean['reported_usage_level'] = df_clean['reported_usage_level'].astype('int')\n",
        "df_clean['considering_change_of_plan'] = df_clean['considering_change_of_plan'].astype('float')\n",
        "\n",
        "#Add new field with binary value for leave\n",
        "df_clean['leave_flag'] = df_clean['leave'].str.replace('STAY','0')\n",
        "df_clean['leave_flag'] = df_clean['leave_flag'].str.replace('LEAVE','1')\n",
        "df_clean['leave_flag'] = df_clean['leave_flag'].astype('int')\n",
        "df_clean['leave_flag'] = df_clean['leave_flag'].astype('bool')\n",
        "\n",
        "df_clean.head(10)"
      ]
    },
    {
      "cell_type": "markdown",
      "metadata": {
        "id": "AuB0G9gJt7gn"
      },
      "source": [
        "# Convert attributes to factors\n",
        "\n",
        "- Leave\n",
        "- College\n",
        "- Reported satisfaction\n",
        "- Reported usage level\n",
        "- Considering change of plan"
      ]
    },
    {
      "cell_type": "code",
      "execution_count": 5,
      "metadata": {
        "id": "inCqTVMDt6ex",
        "colab": {
          "base_uri": "https://localhost:8080/"
        },
        "outputId": "0886e2a0-2640-422a-e350-732cdc5da601"
      },
      "outputs": [
        {
          "output_type": "stream",
          "name": "stdout",
          "text": [
            "<class 'pandas.core.frame.DataFrame'>\n",
            "Index: 10412 entries, 0 to 14998\n",
            "Data columns (total 17 columns):\n",
            " #   Column                       Non-Null Count  Dtype   \n",
            "---  ------                       --------------  -----   \n",
            " 0   college                      10412 non-null  category\n",
            " 1   income                       10412 non-null  int64   \n",
            " 2   data_overage_mb              10412 non-null  int64   \n",
            " 3   data_leftover_mb             10412 non-null  int64   \n",
            " 4   data_mb_used                 10412 non-null  int64   \n",
            " 5   text_message_count           10412 non-null  int64   \n",
            " 6   house                        10412 non-null  int64   \n",
            " 7   handset_price                10412 non-null  int64   \n",
            " 8   over_15mins_calls_per_month  10412 non-null  float64 \n",
            " 9   average_call_duration        10412 non-null  int64   \n",
            " 10  reported_satisfaction        10412 non-null  category\n",
            " 11  reported_usage_level         10412 non-null  category\n",
            " 12  considering_change_of_plan   10412 non-null  category\n",
            " 13  leave                        10412 non-null  category\n",
            " 14  id                           10412 non-null  int64   \n",
            " 15  operating_system             10412 non-null  object  \n",
            " 16  leave_flag                   10412 non-null  bool    \n",
            "dtypes: bool(1), category(5), float64(1), int64(9), object(1)\n",
            "memory usage: 1.0+ MB\n"
          ]
        }
      ],
      "source": [
        "df_clean['leave'] = df_clean['leave'].astype('category')\n",
        "df_clean['college'] = df_clean['college'].astype('category')\n",
        "df_clean['reported_satisfaction'] = df_clean['reported_satisfaction'].astype('category')\n",
        "df_clean['reported_usage_level'] = df_clean['reported_usage_level'].astype('category')\n",
        "df_clean['considering_change_of_plan'] = df_clean['considering_change_of_plan'].astype('category')\n",
        "\n",
        "df_clean.info()"
      ]
    },
    {
      "cell_type": "markdown",
      "metadata": {
        "id": "SxpDe4NWKb3H"
      },
      "source": [
        "# What is the base probability of leaving?\n",
        "\n",
        "If we use no model at all, how good is our chance of predicting someone leaving?"
      ]
    },
    {
      "cell_type": "code",
      "execution_count": 6,
      "metadata": {
        "id": "g6JlH3TiKk16",
        "colab": {
          "base_uri": "https://localhost:8080/"
        },
        "outputId": "62cc0321-687f-4ba7-caf9-34e7b9d9ef3a"
      },
      "outputs": [
        {
          "output_type": "execute_result",
          "data": {
            "text/plain": [
              "0.4990395697272378"
            ]
          },
          "metadata": {},
          "execution_count": 6
        }
      ],
      "source": [
        "df_clean['leave_flag'].mean()"
      ]
    },
    {
      "cell_type": "markdown",
      "metadata": {
        "id": "0kqsDDZEt4iL"
      },
      "source": [
        "#Split the training and testing datasets"
      ]
    },
    {
      "cell_type": "code",
      "execution_count": 7,
      "metadata": {
        "id": "bRmlBElPt9eh"
      },
      "outputs": [],
      "source": [
        "# split the datafram into independent (x) and dependent (predicted) attributes (y)\n",
        "x = df_clean[['income','house','college','data_overage_mb','data_leftover_mb','text_message_count','handset_price','over_15mins_calls_per_month','average_call_duration','reported_satisfaction','reported_usage_level','considering_change_of_plan']]\n",
        "y = df_clean['leave_flag']\n",
        "\n",
        "#place 20% of data in a test dataframe\n",
        "x_train, x_test, y_train, y_test = train_test_split(x, y, test_size=0.2)"
      ]
    },
    {
      "cell_type": "markdown",
      "metadata": {
        "id": "SoJLJMlceORN"
      },
      "source": [
        "## Fit a basic tree model\n",
        "\n",
        "Use all available attributes"
      ]
    },
    {
      "cell_type": "code",
      "execution_count": 8,
      "metadata": {
        "id": "WBH7aRXbOUf4"
      },
      "outputs": [],
      "source": [
        "\n",
        "\n",
        "megatelco_tree = DecisionTreeClassifier(criterion=\"entropy\", max_depth=4)\n",
        "\n",
        "# Create Decision Tree Classifer\n",
        "megatelco_tree = megatelco_tree.fit(x_train,y_train)\n",
        "\n",
        "# Use the tree to predict \"leave\"\n",
        "y_predict = megatelco_tree.predict(x_test)\n",
        "\n",
        "\n"
      ]
    },
    {
      "cell_type": "markdown",
      "metadata": {
        "id": "kS4-f2osS0s0"
      },
      "source": [
        "## What is the accuracy?\n",
        "\n",
        "Is it better than the 49% base probability?"
      ]
    },
    {
      "cell_type": "code",
      "execution_count": 9,
      "metadata": {
        "id": "kl_KUqeqS6Nf",
        "colab": {
          "base_uri": "https://localhost:8080/"
        },
        "outputId": "c0507227-1643-4411-eb2c-e7deae5668aa"
      },
      "outputs": [
        {
          "output_type": "stream",
          "name": "stdout",
          "text": [
            "Accuracy: 0.6629860777724436\n"
          ]
        }
      ],
      "source": [
        "print(\"Accuracy:\",metrics.accuracy_score(y_test, y_predict))"
      ]
    },
    {
      "cell_type": "markdown",
      "metadata": {
        "id": "-I66jKusS_Xe"
      },
      "source": [
        "# Create a confusion matrix\n",
        "\n",
        "This will show false positives, true positives, etc."
      ]
    },
    {
      "cell_type": "code",
      "execution_count": 10,
      "metadata": {
        "id": "l_dKmgjmTGsj",
        "colab": {
          "base_uri": "https://localhost:8080/"
        },
        "outputId": "c179cfcf-1086-4acb-c7a8-7f8d959bb3fd"
      },
      "outputs": [
        {
          "output_type": "stream",
          "name": "stdout",
          "text": [
            "[[383 669]\n",
            " [ 33 998]]\n"
          ]
        }
      ],
      "source": [
        "# create a confusion matrix\n",
        "megatelco_tree_matrix = confusion_matrix(y_test, y_predict)\n",
        "print(megatelco_tree_matrix)"
      ]
    },
    {
      "cell_type": "markdown",
      "metadata": {
        "id": "sSNfQKZA3jg2"
      },
      "source": [
        "## Plot the confusion matrix\n",
        "\n",
        "We will use a Seaborn library for this"
      ]
    },
    {
      "cell_type": "code",
      "execution_count": 11,
      "metadata": {
        "id": "eVOSIP8SeYg3",
        "colab": {
          "base_uri": "https://localhost:8080/",
          "height": 489
        },
        "outputId": "e940293f-3757-441e-ff80-cbd3cb2d89a0"
      },
      "outputs": [
        {
          "output_type": "execute_result",
          "data": {
            "text/plain": [
              "[Text(0, 0.5, 'Stay'), Text(0, 1.5, 'Leave')]"
            ]
          },
          "metadata": {},
          "execution_count": 11
        },
        {
          "output_type": "display_data",
          "data": {
            "text/plain": [
              "<Figure size 640x480 with 2 Axes>"
            ],
            "image/png": "[encoded data removed]"
          },
          "metadata": {}
        }
      ],
      "source": [
        "#Create a heatmap from our confusion matrix\n",
        "cm = sns.heatmap(megatelco_tree_matrix, annot=True, fmt='d',cmap='Reds')\n",
        "\n",
        "cm.set_title('Confusion Matrix');\n",
        "cm.set_xlabel('Predicted')\n",
        "cm.set_ylabel('Observered (Actual)');\n",
        "\n",
        "cm.xaxis.set_ticklabels(['Stay','Leave'])\n",
        "cm.yaxis.set_ticklabels(['Stay','Leave'])"
      ]
    },
    {
      "cell_type": "markdown",
      "metadata": {
        "id": "vTC161_b9kWm"
      },
      "source": [
        "## Calculate Profit\n",
        "\n",
        "Using the confusion matrix in the previous question how much profit (revenue - costs) could be expected with these costs-benefits?\n",
        "\n",
        "For MegaTelCo we will assume benefit (revenue) = 800 and cost = 200.  TPs are a benefit, FPs are a cost. Again, we ignore those predicted to stay. (The cost-benefit numbers will be different in the AdviseInvest case! )\n",
        "\n",
        "Why are TPs a benefit? In the MegaTelCo scenario, these are customers who are predicted to leave and actually were going to leave. If your marketing campaign is successful, then you can convince them to stay, thereby saving the company money. (In the AdviseInvest scenario, TPs are customers that you have predicted will answer the phone and do answer, thus providing an opportunity for your sales reps to make a sale.)\n",
        "\n",
        "**Assume you can save 100% of the people who were actually going to leave.**  "
      ]
    },
    {
      "cell_type": "code",
      "execution_count": 18,
      "metadata": {
        "id": "y3BHSJu-9s8z",
        "colab": {
          "base_uri": "https://localhost:8080/"
        },
        "outputId": "24d27997-36cd-42ee-c4a1-701d9dae71b5"
      },
      "outputs": [
        {
          "output_type": "execute_result",
          "data": {
            "text/plain": [
              "465000"
            ]
          },
          "metadata": {},
          "execution_count": 18
        }
      ],
      "source": [
        "# True leavers * 600 -> You rescued these leave-leave people\n",
        "# False leavers * 200 -> You wasted your money on the leave-stay people since they weren't actually going to leave\n",
        "(998 * (800-200)) - (669 * 200)"
      ]
    },
    {
      "cell_type": "markdown",
      "metadata": {
        "id": "fwflt1dBC_q-"
      },
      "source": [
        "## Fine tune the model\n",
        "\n",
        "Adjust the threshold for giving offers down to 0.2.  What happens to profit?\n",
        "\n",
        "The default threshold is 0.5 or 50% likely to make a choice.  If we adjust to 0.20, we are looking for customers with even a 20% chance of leaving.   This will lead to more offers being made and more false positives.  \n",
        "\n"
      ]
    },
    {
      "cell_type": "code",
      "execution_count": 58,
      "metadata": {
        "id": "wdCte4KoDeze",
        "colab": {
          "base_uri": "https://localhost:8080/"
        },
        "outputId": "a675fb82-1574-46f7-d10c-38bfd7f776a2"
      },
      "outputs": [
        {
          "output_type": "stream",
          "name": "stdout",
          "text": [
            "[[ 292  760]\n",
            " [   0 1031]]\n"
          ]
        }
      ],
      "source": [
        "\n",
        "\n",
        "megatelco2_tree = DecisionTreeClassifier(criterion=\"entropy\", max_depth=4)\n",
        "\n",
        "# Create Decision Tree Classifer\n",
        "megatelco2_tree = megatelco2_tree.fit(x_train,y_train)\n",
        "\n",
        "# Use the tree to predict \"leave\"\n",
        "y_predict2 = (megatelco2_tree.predict_proba(x_test)[:,1] >= 0.2)\n",
        "\n",
        "\n",
        "# create a confusion matrix\n",
        "megatelco2_matrix = confusion_matrix(y_test, y_predict2)\n",
        "print(megatelco2_matrix)\n",
        "\n"
      ]
    },
    {
      "cell_type": "markdown",
      "metadata": {
        "id": "sUjcGGHVJZjM"
      },
      "source": [
        "## Create a new confusion matrix"
      ]
    },
    {
      "cell_type": "code",
      "execution_count": 20,
      "metadata": {
        "id": "EB-7JVcAJYeU",
        "colab": {
          "base_uri": "https://localhost:8080/",
          "height": 489
        },
        "outputId": "6781d98a-bbc2-471d-f89c-677a42923fe5"
      },
      "outputs": [
        {
          "output_type": "execute_result",
          "data": {
            "text/plain": [
              "[Text(0, 0.5, 'Stay'), Text(0, 1.5, 'Leave')]"
            ]
          },
          "metadata": {},
          "execution_count": 20
        },
        {
          "output_type": "display_data",
          "data": {
            "text/plain": [
              "<Figure size 640x480 with 2 Axes>"
            ],
            "image/png": "[encoded data removed]"
          },
          "metadata": {}
        }
      ],
      "source": [
        "import seaborn as sns\n",
        "\n",
        "#Create a heatmap from our confusion matrix\n",
        "cm = sns.heatmap(megatelco2_matrix , annot=True, fmt='d',cmap='Reds')\n",
        "\n",
        "cm.set_title('Confusion Matrix');\n",
        "cm.set_xlabel('Predicted')\n",
        "cm.set_ylabel('Observered (Actual)');\n",
        "\n",
        "cm.xaxis.set_ticklabels(['Stay','Leave'])\n",
        "cm.yaxis.set_ticklabels(['Stay','Leave'])\n"
      ]
    },
    {
      "cell_type": "markdown",
      "metadata": {
        "id": "ww9cgPXwM98V"
      },
      "source": [
        "## Calculate profite for new model"
      ]
    },
    {
      "cell_type": "code",
      "execution_count": 22,
      "metadata": {
        "id": "ATaPW2kHNBrv",
        "colab": {
          "base_uri": "https://localhost:8080/"
        },
        "outputId": "ff15710d-2a0b-4f39-d03d-2c1797dd04ec"
      },
      "outputs": [
        {
          "output_type": "execute_result",
          "data": {
            "text/plain": [
              "466600"
            ]
          },
          "metadata": {},
          "execution_count": 22
        }
      ],
      "source": [
        "# True leavers * 600 -> You rescued these leave-leave people\n",
        "# False leavers * 200 -> You wasted your money on the leave-stay people since they weren't actually going to leave\n",
        "( 1031 * (800-200)) - (760 * 200)"
      ]
    },
    {
      "cell_type": "markdown",
      "metadata": {
        "id": "cIff_eH-NYU5"
      },
      "source": [
        "## Optimize the Model\n",
        "\n",
        "➡️ Assignment Tasks\n",
        "What is the optimal profit possible?  Iterate through multiple probability levels to find the shape of the profitability curve.\n",
        "- Create at least 5 different confusion matrix versions at different probability levels.   Your last version should be the most profitable"
      ]
    },
    {
      "cell_type": "code",
      "source": [
        "import numpy as np\n",
        "from sklearn.metrics import confusion_matrix\n",
        "\n",
        "probabilities = megatelco2_tree.predict_proba(x_test)[:, 1]\n",
        "thresholds = [0.3, 0.4, 0.5, 0.6, 0.7]\n",
        "profits = []\n",
        "confusion_matrices = []\n",
        "\n",
        "benefit_per_tp = 600\n",
        "cost_per_fp = 200\n",
        "\n",
        "for threshold in thresholds:\n",
        "\n",
        "    predictions = (probabilities >= threshold).astype(int)\n",
        "\n",
        "    tn, fp, fn, tp = confusion_matrix(y_test, predictions).ravel()\n",
        "    confusion_matrices.append((tn, fp, fn, tp))\n",
        "\n",
        "    profit = (tp * benefit_per_tp) - (fp * cost_per_fp)\n",
        "    profits.append(profit)\n",
        "\n",
        "optimal_threshold = thresholds[np.argmax(profits)]\n",
        "optimal_profit = max(profits)\n",
        "\n",
        "print(\"Thresholds:\", thresholds)\n",
        "print(\"Profits:\", profits)\n",
        "print(\"Optimal Threshold:\", optimal_threshold)\n",
        "print(\"Optimal Profit:\", optimal_profit)\n",
        "\n",
        "import matplotlib.pyplot as plt\n",
        "\n",
        "plt.plot(thresholds, profits, marker='o')\n",
        "plt.xlabel('Probability Threshold')\n",
        "plt.ylabel('Profit')\n",
        "plt.title('Profitability Curve')\n",
        "plt.show()"
      ],
      "metadata": {
        "colab": {
          "base_uri": "https://localhost:8080/",
          "height": 541
        },
        "id": "37kW0DDuUtZ7",
        "outputId": "60af2929-fe3b-4ab7-f60a-8d241ecb772d"
      },
      "execution_count": 94,
      "outputs": [
        {
          "output_type": "stream",
          "name": "stdout",
          "text": [
            "Thresholds: [0.3, 0.4, 0.5, 0.6, 0.7]\n",
            "Profits: [465000, 465000, 465000, 206000, 150600]\n",
            "Optimal Threshold: 0.3\n",
            "Optimal Profit: 465000\n"
          ]
        },
        {
          "output_type": "display_data",
          "data": {
            "text/plain": [
              "<Figure size 640x480 with 1 Axes>"
            ],
            "image/png": "[encoded data removed]"
          },
          "metadata": {}
        }
      ]
    },
    {
      "cell_type": "code",
      "source": [
        "# 0.30 probability yields the most profit. At a .30 probability we are giving the least amount of incorrect leave offers while generating the most revenue."
      ],
      "metadata": {
        "id": "8MkcHqldUuwW"
      },
      "execution_count": null,
      "outputs": []
    },
    {
      "cell_type": "code",
      "source": [
        "megatelco3_tree = DecisionTreeClassifier(criterion=\"entropy\", max_depth=4)\n",
        "\n",
        "# Create Decision Tree Classifer\n",
        "megatelco3_tree = megatelco3_tree.fit(x_train,y_train)\n",
        "\n",
        "# Use the tree to predict \"leave\"\n",
        "y_predict3 = (megatelco3_tree.predict_proba(x_test)[:,1] >= 0.3)\n",
        "\n",
        "\n",
        "# create a confusion matrix\n",
        "megatelco3_matrix = confusion_matrix(y_test, y_predict3)\n",
        "print(megatelco3_matrix)"
      ],
      "metadata": {
        "colab": {
          "base_uri": "https://localhost:8080/"
        },
        "id": "4WpL1A9NTg0N",
        "outputId": "b69d6b8e-6354-4085-eb6f-a4ac542dc80e"
      },
      "execution_count": 60,
      "outputs": [
        {
          "output_type": "stream",
          "name": "stdout",
          "text": [
            "[[383 669]\n",
            " [ 33 998]]\n"
          ]
        }
      ]
    },
    {
      "cell_type": "code",
      "source": [
        "(600*998)-(200*669)"
      ],
      "metadata": {
        "colab": {
          "base_uri": "https://localhost:8080/"
        },
        "id": "Mrq3IWfzTgn3",
        "outputId": "a8682943-f4aa-4e1c-aab3-29c6c9066cae"
      },
      "execution_count": 61,
      "outputs": [
        {
          "output_type": "execute_result",
          "data": {
            "text/plain": [
              "465000"
            ]
          },
          "metadata": {},
          "execution_count": 61
        }
      ]
    },
    {
      "cell_type": "code",
      "source": [
        "megatelco4_tree = DecisionTreeClassifier(criterion=\"entropy\", max_depth=4)\n",
        "\n",
        "# Create Decision Tree Classifer\n",
        "megatelco4_tree = megatelco4_tree.fit(x_train,y_train)\n",
        "\n",
        "# Use the tree to predict \"leave\"\n",
        "y_predict4 = (megatelco4_tree.predict_proba(x_test)[:,1] >= 0.4)\n",
        "\n",
        "\n",
        "# create a confusion matrix\n",
        "megatelco4_matrix = confusion_matrix(y_test, y_predict4)\n",
        "print(megatelco4_matrix)"
      ],
      "metadata": {
        "colab": {
          "base_uri": "https://localhost:8080/"
        },
        "id": "Ei2UtLVZTziH",
        "outputId": "54351f3f-be9d-4ef3-94cc-e3ab90b10342"
      },
      "execution_count": 81,
      "outputs": [
        {
          "output_type": "stream",
          "name": "stdout",
          "text": [
            "[[383 669]\n",
            " [ 33 998]]\n"
          ]
        }
      ]
    },
    {
      "cell_type": "code",
      "source": [
        "(600*998)-(200*669)"
      ],
      "metadata": {
        "colab": {
          "base_uri": "https://localhost:8080/"
        },
        "id": "Yg53lsFAUAEd",
        "outputId": "b1c4da1d-833f-45ae-d701-d4f2f82373c8"
      },
      "execution_count": 82,
      "outputs": [
        {
          "output_type": "execute_result",
          "data": {
            "text/plain": [
              "465000"
            ]
          },
          "metadata": {},
          "execution_count": 82
        }
      ]
    },
    {
      "cell_type": "code",
      "source": [
        "megatelco5_tree = DecisionTreeClassifier(criterion=\"entropy\", max_depth=4)\n",
        "\n",
        "# Create Decision Tree Classifer\n",
        "megatelco5_tree = megatelco5_tree.fit(x_train,y_train)\n",
        "\n",
        "# Use the tree to predict \"leave\"\n",
        "y_predict5 = (megatelco5_tree.predict_proba(x_test)[:,1] >= 0.5)\n",
        "\n",
        "\n",
        "# create a confusion matrix\n",
        "megatelco5_matrix = confusion_matrix(y_test, y_predict5)\n",
        "print(megatelco5_matrix)"
      ],
      "metadata": {
        "colab": {
          "base_uri": "https://localhost:8080/"
        },
        "id": "XjXjO2SvUPzK",
        "outputId": "e6e8c143-a6f7-4796-d9c4-6f0bf9df6c24"
      },
      "execution_count": 86,
      "outputs": [
        {
          "output_type": "stream",
          "name": "stdout",
          "text": [
            "[[383 669]\n",
            " [ 33 998]]\n"
          ]
        }
      ]
    },
    {
      "cell_type": "code",
      "source": [
        "(998*600)-(200*669)"
      ],
      "metadata": {
        "colab": {
          "base_uri": "https://localhost:8080/"
        },
        "id": "I5HceJtUUWz6",
        "outputId": "a29eb42a-505a-47ae-90e7-ee8c279a8111"
      },
      "execution_count": 85,
      "outputs": [
        {
          "output_type": "execute_result",
          "data": {
            "text/plain": [
              "465000"
            ]
          },
          "metadata": {},
          "execution_count": 85
        }
      ]
    },
    {
      "cell_type": "code",
      "source": [
        "megatelco5_tree = DecisionTreeClassifier(criterion=\"entropy\", max_depth=4)\n",
        "\n",
        "# Create Decision Tree Classifer\n",
        "megatelco5_tree = megatelco5_tree.fit(x_train,y_train)\n",
        "\n",
        "# Use the tree to predict \"leave\"\n",
        "y_predict5 = (megatelco5_tree.predict_proba(x_test)[:,1] >= 0.52)\n",
        "\n",
        "\n",
        "# create a confusion matrix\n",
        "megatelco5_matrix = confusion_matrix(y_test, y_predict5)\n",
        "print(megatelco5_matrix)"
      ],
      "metadata": {
        "colab": {
          "base_uri": "https://localhost:8080/"
        },
        "id": "9hvUejBrUamW",
        "outputId": "237e9215-a886-4135-f7d9-d071451ccc02"
      },
      "execution_count": 88,
      "outputs": [
        {
          "output_type": "stream",
          "name": "stdout",
          "text": [
            "[[922 130]\n",
            " [630 401]]\n"
          ]
        }
      ]
    },
    {
      "cell_type": "code",
      "source": [
        "(401*600)-(130*200)"
      ],
      "metadata": {
        "colab": {
          "base_uri": "https://localhost:8080/"
        },
        "id": "5US3GZnfUckn",
        "outputId": "76af6aff-c1e8-4c4c-e8c0-731422f78d1c"
      },
      "execution_count": 89,
      "outputs": [
        {
          "output_type": "execute_result",
          "data": {
            "text/plain": [
              "214600"
            ]
          },
          "metadata": {},
          "execution_count": 89
        }
      ]
    },
    {
      "cell_type": "code",
      "source": [
        "megatelco5_tree = DecisionTreeClassifier(criterion=\"entropy\", max_depth=4)\n",
        "\n",
        "# Create Decision Tree Classifer\n",
        "megatelco5_tree = megatelco5_tree.fit(x_train,y_train)\n",
        "\n",
        "# Use the tree to predict \"leave\"\n",
        "y_predict5 = (megatelco5_tree.predict_proba(x_test)[:,1] >= 0.3)\n",
        "\n",
        "\n",
        "# create a confusion matrix\n",
        "megatelco5_matrix = confusion_matrix(y_test, y_predict5)\n",
        "print(megatelco5_matrix)"
      ],
      "metadata": {
        "colab": {
          "base_uri": "https://localhost:8080/"
        },
        "id": "OyZ7o2ODUjBx",
        "outputId": "702165be-9cda-4575-f5d1-5911b4262880"
      },
      "execution_count": 92,
      "outputs": [
        {
          "output_type": "stream",
          "name": "stdout",
          "text": [
            "[[383 669]\n",
            " [ 33 998]]\n"
          ]
        }
      ]
    },
    {
      "cell_type": "code",
      "source": [
        "(998*600)-(669*200)"
      ],
      "metadata": {
        "colab": {
          "base_uri": "https://localhost:8080/"
        },
        "id": "cG8PONcyUoEO",
        "outputId": "f39d23d7-e008-4e0e-a935-e98b1ddbc3b1"
      },
      "execution_count": 93,
      "outputs": [
        {
          "output_type": "execute_result",
          "data": {
            "text/plain": [
              "465000"
            ]
          },
          "metadata": {},
          "execution_count": 93
        }
      ]
    }
  ],
  "metadata": {
    "colab": {
      "provenance": [],
      "include_colab_link": true
    },
    "kernelspec": {
      "display_name": "Python 3",
      "name": "python3"
    },
    "language_info": {
      "name": "python"
    }
  },
  "nbformat": 4,
  "nbformat_minor": 0
}